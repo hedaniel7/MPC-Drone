{
 "cells": [
  {
   "cell_type": "code",
   "execution_count": 12,
   "id": "initial_id",
   "metadata": {
    "ExecuteTime": {
     "end_time": "2024-01-28T09:11:37.998294971Z",
     "start_time": "2024-01-28T09:11:37.955960264Z"
    }
   },
   "outputs": [],
   "source": [
    "from casadi import *\n",
    "\n",
    "# Paper Cascaded Nonlinear MPC for Realtime Quadrotor Position Tracking. Schlagenhauf\n",
    "\n",
    "# Define system, static/kinematic/dynamic model. Typically Differential (Algebraic) equations\n",
    "\n",
    "# Expression graphs represent a computation in the computer memory. SX, MX\n",
    "\n",
    "\n",
    "Ix = 0.0000166  #Moment of inertia around p_WB_W_x-axis, source: Julian Förster's ETH Bachelor Thesis\n",
    "Iy = 0.0000167  #Moment of inertia around p_WB_W_y-axis, source: Julian Förster's ETH Bachelor Thesis\n",
    "Iz = 0.00000293 #Moment of inertia around p_WB_W_z-axis, source: Julian Förster's ETH Bachelor Thesis\n",
    "m = 0.029 #mass of Crazyflie 2.1\n",
    "g = 9.81\n",
    "\n",
    "Nx = 12\n",
    "Nu = 4\n",
    "Nhoriz = 10\n",
    "\n",
    "# x(t) = [x, y, z, phi, theta, psi, x_dot, y_dot, z_dot, phi_dot, ˙theta_dot, psi_dot]T\n",
    "X = MX.sym(\"x\",Nx)\n",
    "U = MX.sym(\"u\",Nu)\n",
    "\n",
    "\n",
    "x_pos = X[0]  # x-position\n",
    "y = X[1]  # y-position\n",
    "z = X[2]  # z-position\n",
    "phi = X[3]  # phi-angle, Euler angles\n",
    "theta = X[4]  # theta-angle, Euler angles\n",
    "psi = X[5]  # psi-angle, Euler angles\n",
    "x_pos_dot = X[6]  # x velocity\n",
    "y_dot = X[7]  # y velocity\n",
    "z_dot = X[8]  # z velocity\n",
    "phi_dot = X[9]  # phi_dot, angular velocity\n",
    "theta_dot = X[10]  # theta_dot\n",
    "psi_dot = X[11]  # psi-dot\n",
    "\n",
    "thrust = U[0]\n",
    "tau_phi = U[1]\n",
    "tau_theta = U[2]\n",
    "tau_psi = U[3]\n",
    "\n",
    "\n",
    "# x˙(t) = [x_dot, y_dot, z_dot, phi_dot, ˙theta_dot, psi_dot, x_ddot, y_ddot, z_ddot, phi_ddot, ˙theta_ddot, psi_ddot]T\n",
    "\n",
    "\n",
    "x_pos_ddot = (cos(phi) * sin(phi) * cos(psi) + sin(phi) * sin(phi))  * thrust / m\n",
    "y_ddot = (cos(phi) * sin(phi) * cos(psi) - sin(phi) * sin(phi))  * thrust / m\n",
    "z_ddot = -g + (cos(phi) * cos(theta)) * thrust / m\n",
    "phi_ddot = theta_dot * psi_dot * (Iy - Iz) / (Ix) + tau_phi / Ix\n",
    "theta_ddot = phi_dot * psi_dot * (Iz - Ix) / (Iy) + tau_phi / Iy\n",
    "psi_ddot = theta_dot * phi_dot * (Ix - Iy) / (Iz) + tau_phi / Iz\n",
    "\n",
    "x_dot = vertcat(x_pos_dot, y_dot, z_dot, phi_dot, theta_dot, psi_dot, x_pos_ddot, y_ddot, z_ddot, phi_ddot, theta_ddot, psi_ddot)\n",
    "\n",
    "f = Function('f', [X, U], [x_dot], ['x','u'],['x_dot'])\n",
    "\n",
    "f"
   ]
  },
  {
   "cell_type": "code",
   "execution_count": 13,
   "id": "e2c72a45bc90319a",
   "metadata": {
    "collapsed": false,
    "ExecuteTime": {
     "end_time": "2024-01-28T09:11:39.821284016Z",
     "start_time": "2024-01-28T09:11:39.812428359Z"
    }
   },
   "outputs": [],
   "source": [
    "def rk4_step(f, X, U, dt):\n",
    "    k1 = f(X, U)\n",
    "    k2 = f(X + dt/2 * k1, U)\n",
    "    k3 = f(X + dt/2 * k2, U)\n",
    "    k4 = f(X + dt * k3, U)\n",
    "    X_next = X + dt/6 * (k1 + 2*k2 + 2*k3 + k4)\n",
    "    return X_next\n"
   ]
  },
  {
   "cell_type": "code",
   "execution_count": 15,
   "id": "f09dd5144b2a1c01",
   "metadata": {
    "collapsed": false,
    "ExecuteTime": {
     "end_time": "2024-01-28T09:11:45.310455381Z",
     "start_time": "2024-01-28T09:11:45.306649600Z"
    }
   },
   "outputs": [],
   "source": [
    "# ---- objective          ---------\n",
    "\n",
    "\n",
    "Q = diag(MX([100, 100, 100, 0, 0, 0, 0, 0, 0, 0, 0, 0]))\n",
    "R = diag(MX([10.0, 10.0, 10.0, 10.0]))\n",
    "\n",
    "# Add the objective function to the optimization problem\n",
    "objective = 0  # Initialize the objective function\n",
    "\n",
    "# Loop over the control horizon\n",
    "for k in range(Nhoriz):\n",
    "    # State tracking cost\n",
    "    state_error = X[:, k] - Xref[:, k]  # State deviation\n",
    "    objective += state_error.T @ Q @ state_error  # Quadratic cost for state deviation\n",
    "\n",
    "    # Control effort cost\n",
    "    if k < Nhoriz - 1:  # No control input for the last stage\n",
    "        control_error = U[:, k]  # Assuming zero as the reference for control inputs\n",
    "        objective += control_error.T @ R @ control_error  # Quadratic cost for control effort\n",
    "\n",
    "# Terminal cost\n",
    "terminal_error = X[:, Nhoriz] - Xref[:, Nhoriz]  # Terminal state deviation\n",
    "objective += terminal_error.T @ Q @ terminal_error  # Quadratic cost for terminal state deviation\n",
    "\n",
    "# Solve/deploy problem\n",
    "# Numerical backends, 3rd-party solvers\n",
    "# Ipopt\n",
    "\n",
    "opti.minimize(objective)  # Set the objective in the optimization problem"
   ]
  }
 ],
 "metadata": {
  "kernelspec": {
   "display_name": "Python 3 (ipykernel)",
   "language": "python",
   "name": "python3"
  },
  "language_info": {
   "codemirror_mode": {
    "name": "ipython",
    "version": 3
   },
   "file_extension": ".py",
   "mimetype": "text/x-python",
   "name": "python",
   "nbconvert_exporter": "python",
   "pygments_lexer": "ipython3",
   "version": "3.12.1"
  }
 },
 "nbformat": 4,
 "nbformat_minor": 5
}
