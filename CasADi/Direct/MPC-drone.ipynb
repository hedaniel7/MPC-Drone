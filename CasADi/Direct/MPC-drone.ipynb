{
 "cells": [
  {
   "cell_type": "code",
   "execution_count": 1,
   "id": "initial_id",
   "metadata": {
    "ExecuteTime": {
     "end_time": "2024-02-01T07:55:25.201965751Z",
     "start_time": "2024-02-01T07:55:25.118384318Z"
    }
   },
   "outputs": [
    {
     "data": {
      "text/plain": "Function(f:(x[12],u[4])->(x_dot[12]) MXFunction)"
     },
     "execution_count": 1,
     "metadata": {},
     "output_type": "execute_result"
    }
   ],
   "source": [
    "from casadi import *\n",
    "\n",
    "# Paper Cascaded Nonlinear MPC for Realtime Quadrotor Position Tracking. Schlagenhauf\n",
    "\n",
    "# Define system, static/kinematic/dynamic model. Typically Differential (Algebraic) equations\n",
    "\n",
    "# Expression graphs represent a computation in the computer memory. SX, MX\n",
    "\n",
    "\n",
    "Ix = 0.0000166  #Moment of inertia around p_WB_W_x-axis, source: Julian Förster's ETH Bachelor Thesis\n",
    "Iy = 0.0000167  #Moment of inertia around p_WB_W_y-axis, source: Julian Förster's ETH Bachelor Thesis\n",
    "Iz = 0.00000293 #Moment of inertia around p_WB_W_z-axis, source: Julian Förster's ETH Bachelor Thesis\n",
    "m = 0.029 #mass of Crazyflie 2.1\n",
    "g = 9.81\n",
    "\n",
    "Nx = 12\n",
    "Nu = 4\n",
    "Nhoriz = 10\n",
    "T = 5. # time horizon\n",
    "\n",
    "# x(t) = [x, y, z, phi, theta, psi, x_dot, y_dot, z_dot, phi_dot, ˙theta_dot, psi_dot]T\n",
    "x = MX.sym(\"x\", Nx)\n",
    "u = MX.sym(\"u\", Nu)\n",
    "\n",
    "\n",
    "x_pos = x[0]  # x-position\n",
    "y = x[1]  # y-position\n",
    "z = x[2]  # z-position\n",
    "phi = x[3]  # phi-angle, Euler angles\n",
    "theta = x[4]  # theta-angle, Euler angles\n",
    "psi = x[5]  # psi-angle, Euler angles\n",
    "x_pos_dot = x[6]  # x velocity\n",
    "y_dot = x[7]  # y velocity\n",
    "z_dot = x[8]  # z velocity\n",
    "phi_dot = x[9]  # phi_dot, angular velocity\n",
    "theta_dot = x[10]  # theta_dot\n",
    "psi_dot = x[11]  # psi-dot\n",
    "\n",
    "thrust = u[0]\n",
    "tau_phi = u[1]\n",
    "tau_theta = u[2]\n",
    "tau_psi = u[3]\n",
    "\n",
    "\n",
    "# x˙(t) = [x_dot, y_dot, z_dot, phi_dot, ˙theta_dot, psi_dot, x_ddot, y_ddot, z_ddot, phi_ddot, ˙theta_ddot, psi_ddot]T\n",
    "\n",
    "\n",
    "x_pos_ddot = (cos(phi) * sin(phi) * cos(psi) + sin(phi) * sin(phi))  * thrust / m\n",
    "y_ddot = (cos(phi) * sin(phi) * cos(psi) - sin(phi) * sin(phi))  * thrust / m\n",
    "z_ddot = -g + (cos(phi) * cos(theta)) * thrust / m\n",
    "phi_ddot = theta_dot * psi_dot * (Iy - Iz) / (Ix) + tau_phi / Ix\n",
    "theta_ddot = phi_dot * psi_dot * (Iz - Ix) / (Iy) + tau_phi / Iy\n",
    "psi_ddot = theta_dot * phi_dot * (Ix - Iy) / (Iz) + tau_phi / Iz\n",
    "\n",
    "x_dot = vertcat(x_pos_dot, y_dot, z_dot, phi_dot, theta_dot, psi_dot, x_pos_ddot, y_ddot, z_ddot, phi_ddot, theta_ddot, psi_ddot)\n",
    "\n",
    "f = Function('f', [x, u], [x_dot], ['x', 'u'], ['x_dot'])\n",
    "\n",
    "f"
   ]
  },
  {
   "cell_type": "code",
   "execution_count": null,
   "outputs": [],
   "source": [
    "P = MX.sym('P',Nx + Nx) #parameters (which include the initial state and the reference state)"
   ],
   "metadata": {
    "collapsed": false
   },
   "id": "6640b29d3407b8df"
  },
  {
   "cell_type": "code",
   "execution_count": null,
   "outputs": [],
   "source": [
    "obj = 0 # Objective function\n",
    "g = []  # constraints vector\n",
    "\n",
    "Q = diag(MX([100, 100, 100, 0, 0, 0, 0, 0, 0, 0, 0, 0]))\n",
    "R = diag(MX([10.0, 10.0, 10.0, 10.0]))\n",
    "\n",
    "st  = X(:,1); % initial state\n",
    "g = [g;st-P(1:3)]; % initial condition constraints\n",
    "for k = 1:N\n",
    "    st = X(:,k);  con = U(:,k);\n",
    "    obj = obj+(st-P(4:6))'*Q*(st-P(4:6)) + con'*R*con; % calculate obj\n",
    "    st_next = X(:,k+1);\n",
    "    k1 = f(st, con);   % new \n",
    "    k2 = f(st + h/2*k1, con); % new\n",
    "    k3 = f(st + h/2*k2, con); % new\n",
    "    k4 = f(st + h*k3, con); % new\n",
    "    st_next_RK4=st +h/6*(k1 +2*k2 +2*k3 +k4); % new    \n",
    "\n",
    "    g = [g;st_next-st_next_RK4]; # compute constraints % new\n",
    "end"
   ],
   "metadata": {
    "collapsed": false
   },
   "id": "d36e2e151a6df006"
  },
  {
   "cell_type": "code",
   "execution_count": null,
   "outputs": [],
   "source": [
    "# Objective term\n",
    "J = 0\n",
    "\n",
    "J = 0  # Initialize the cost function\n",
    "g = [] # Initialize the list of constraints\n",
    "\n",
    "# Loop over each control interval\n",
    "for k in range(Nhoriz):\n",
    "    # Control input at interval k\n",
    "    Uk = U[:,k]\n",
    "    \n",
    "    # State at interval k\n",
    "    Xk = X[:,k]\n",
    "    \n",
    "    # Integrate to the next interval\n",
    "    Xk_next = rk4(f, Xk, Uk, DT)\n",
    "    \n",
    "    # Add to the objective function\n",
    "    J += mtimes((Xk - x_r).T, Q, (Xk - x_r)) + mtimes((Uk - u_r).T, R, (Uk - u_r))\n",
    "    \n",
    "    # Add to the list of constraints\n",
    "    g.append(Xk_next - X[:, k+1])\n",
    "    \n",
    "# Add terminal cost\n",
    "J += mtimes((X[:,N] - x_r).T, Q_terminal, (X[:,N] - x_r))"
   ],
   "metadata": {
    "collapsed": false
   },
   "id": "b7aacdddf1a47610"
  },
  {
   "cell_type": "code",
   "execution_count": 2,
   "id": "e2c72a45bc90319a",
   "metadata": {
    "collapsed": false,
    "ExecuteTime": {
     "end_time": "2024-02-01T07:55:30.557795840Z",
     "start_time": "2024-02-01T07:55:30.547452852Z"
    }
   },
   "outputs": [],
   "source": [
    "# Fixed step Runge-Kutta 4 integrator\n",
    "M = 4 # RK4 steps per interval\n",
    "DT = T/Nhoriz/M\n",
    "f = Function('f', [x, u], [xdot, J])\n",
    "X0 = MX.sym('X0', 2)\n",
    "U = MX.sym('U')\n",
    "X = X0\n",
    "Q = 0\n",
    "for j in range(M):\n",
    "   k1, k1_q = f(X, U)\n",
    "   k2, k2_q = f(X + DT/2 * k1, U)\n",
    "   k3, k3_q = f(X + DT/2 * k2, U)\n",
    "   k4, k4_q = f(X + DT * k3, U)\n",
    "   X=X+DT/6*(k1 +2*k2 +2*k3 +k4)\n",
    "   Q = Q + DT/6*(k1_q + 2*k2_q + 2*k3_q + k4_q)\n",
    "F = Function('F', [X0, U], [X, Q],['x0','p'],['xf','qf'])"
   ]
  },
  {
   "cell_type": "code",
   "execution_count": null,
   "outputs": [],
   "source": [],
   "metadata": {
    "collapsed": false
   },
   "id": "280fbc0cd575efa8"
  },
  {
   "cell_type": "code",
   "execution_count": 15,
   "id": "f09dd5144b2a1c01",
   "metadata": {
    "collapsed": false,
    "ExecuteTime": {
     "end_time": "2024-01-28T09:11:45.310455381Z",
     "start_time": "2024-01-28T09:11:45.306649600Z"
    }
   },
   "outputs": [],
   "source": [
    "# ---- objective          ---------\n",
    "\n",
    "\n",
    "Q = diag(MX([100, 100, 100, 0, 0, 0, 0, 0, 0, 0, 0, 0]))\n",
    "R = diag(MX([10.0, 10.0, 10.0, 10.0]))\n",
    "\n",
    "# Add the objective function to the optimization problem\n",
    "objective = 0  # Initialize the objective function\n",
    "\n",
    "# Loop over the control horizon\n",
    "for k in range(Nhoriz):\n",
    "    # State tracking cost\n",
    "    state_error = x[:, k] - Xref[:, k]  # State deviation\n",
    "    objective += state_error.T @ Q @ state_error  # Quadratic cost for state deviation\n",
    "\n",
    "    # Control effort cost\n",
    "    if k < Nhoriz - 1:  # No control input for the last stage\n",
    "        control_error = u[:, k]  # Assuming zero as the reference for control inputs\n",
    "        objective += control_error.T @ R @ control_error  # Quadratic cost for control effort\n",
    "\n",
    "# Terminal cost\n",
    "terminal_error = x[:, Nhoriz] - Xref[:, Nhoriz]  # Terminal state deviation\n",
    "objective += terminal_error.T @ Q @ terminal_error  # Quadratic cost for terminal state deviation\n",
    "\n",
    "# Solve/deploy problem\n",
    "# Numerical backends, 3rd-party solvers\n",
    "# Ipopt\n",
    "\n",
    "opti.minimize(objective)  # Set the objective in the optimization problem"
   ]
  }
 ],
 "metadata": {
  "kernelspec": {
   "display_name": "Python 3 (ipykernel)",
   "language": "python",
   "name": "python3"
  },
  "language_info": {
   "codemirror_mode": {
    "name": "ipython",
    "version": 3
   },
   "file_extension": ".py",
   "mimetype": "text/x-python",
   "name": "python",
   "nbconvert_exporter": "python",
   "pygments_lexer": "ipython3",
   "version": "3.12.1"
  }
 },
 "nbformat": 4,
 "nbformat_minor": 5
}
