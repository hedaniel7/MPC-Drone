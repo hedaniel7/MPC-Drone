{
 "cells": [
  {
   "cell_type": "code",
   "execution_count": null,
   "id": "initial_id",
   "metadata": {
    "collapsed": true,
    "is_executing": true
   },
   "outputs": [],
   "source": [
    "# Drone Position control with MPC\n",
    "# ----------------------\n",
    "# An optimal control problem (OCP),\n",
    "# solved with direct multiple-shooting.\n",
    "\n",
    "from casadi import *\n",
    "import numpy as np\n",
    "\n",
    "# Paper Cascaded Nonlinear MPC for Realtime Quadrotor Position Tracking. Schlagenhauf\n",
    "# Paper Non-Linear Model Predictive Control Using CasADi Package for Trajectory Tracking of Quadrotor. Elhesasy\n",
    "\n",
    "# 1) Define system, static/kinematic/dynamic model. Typically Differential (Algebraic) equations\n",
    "# Expression graphs represent a computation in the computer memory. SX, MX\n",
    "\n",
    "opti = Opti()  # Optimization problem\n",
    "\n",
    "Ix = 0.0000166  # Moment of inertia around p_WB_W_x-axis, source: Julian Förster's ETH Bachelor Thesis\n",
    "Iy = 0.0000167  # Moment of inertia around p_WB_W_y-axis, source: Julian Förster's ETH Bachelor Thesis\n",
    "Iz = 0.00000293  # Moment of inertia around p_WB_W_z-axis, source: Julian Förster's ETH Bachelor Thesis\n",
    "m = 0.029  # mass of Crazyflie 2.1\n",
    "g = 9.81\n",
    "\n",
    "Nx = 12\n",
    "Nu = 4\n",
    "Nhoriz = 10"
   ]
  },
  {
   "cell_type": "code",
   "execution_count": null,
   "outputs": [],
   "source": [
    "# ---- decision variables ---------\n",
    "\n",
    "# x(t) = [x, y, z, phi, theta, psi, x_dot, y_dot, z_dot, phi_dot, ˙theta_dot, psi_dot]T\n",
    "X = opti.variable(Nx, Nhoriz + 1)\n",
    "U = opti.variable(Nu, Nhoriz)\n",
    "\n",
    "xref = MX.zeros(Nx,1)\n",
    "xref[2] = 1\n",
    "\n",
    "Xref = repmat(xref, 1, Nhoriz + 1)\n",
    "\n",
    "# repmat(v, n, m): Repeat expression v\n",
    "# n times vertically and m times horizontally.\n",
    "# repmat(SX(3), 2, 1) will create a 2 - by - 1 matrix with all elements 3.\n",
    "\n",
    "x_pos = X[0]  # x-position\n",
    "y = X[1]  # y-position\n",
    "z = X[2]  # z-position\n",
    "phi = X[3]  # phi-angle, Euler angles\n",
    "theta = X[4]  # theta-angle, Euler angles\n",
    "psi = X[5]  # psi-angle, Euler angles\n",
    "x_pos_dot = X[6]  # x velocity\n",
    "y_dot = X[7]  # y velocity\n",
    "z_dot = X[8]  # z velocity\n",
    "phi_dot = X[9]  # phi_dot, angular velocity\n",
    "theta_dot = X[10]  # theta_dot\n",
    "psi_dot = X[11]  # psi-dot\n",
    "\n",
    "thrust = U[0]\n",
    "tau_phi = U[1]\n",
    "tau_theta = U[2]\n",
    "tau_psi = U[3]\n",
    "\n",
    "x_pos_ddot = (cos(phi) * sin(phi) * cos(psi) + sin(phi) * sin(phi)) * thrust / m\n",
    "y_ddot = (cos(phi) * sin(phi) * cos(psi) - sin(phi) * sin(phi)) * thrust / m\n",
    "z_ddot = -g + (cos(phi) * cos(theta)) * thrust / m\n",
    "phi_ddot = theta_dot * psi_dot * (Iy - Iz) / (Ix) + tau_phi / Ix\n",
    "theta_ddot = phi_dot * psi_dot * (Iz - Ix) / (Iy) + tau_phi / Iy\n",
    "psi_ddot = theta_dot * phi_dot * (Ix - Iy) / (Iz) + tau_phi / Iz\n",
    "\n",
    "# x˙(t) = [x_dot, y_dot, z_dot, phi_dot, ˙theta_dot, psi_dot, x_ddot, y_ddot, z_ddot, phi_ddot, ˙theta_ddot, psi_ddot]T\n",
    "x_dot = vertcat(x_pos_dot, y_dot, z_dot, phi_dot, theta_dot, psi_dot, x_pos_ddot, y_ddot, z_ddot, phi_ddot, theta_ddot, psi_ddot)"
   ],
   "metadata": {
    "collapsed": false,
    "is_executing": true
   },
   "id": "e2c72a45bc90319a"
  },
  {
   "cell_type": "code",
   "execution_count": null,
   "outputs": [],
   "source": [
    "# 2) Define problem based on system. Initial value/Integration/Rootfinding Problems/\n",
    "# Nonlinear constrained optimization\n",
    "\n",
    "# Expression graphs -create-> create functions\n",
    "\n",
    "f = Function('f', [X, U], [x_dot], ['x', 'u'], ['x_dot'])"
   ],
   "metadata": {
    "collapsed": false
   },
   "id": "24781c5cf0f3985b"
  },
  {
   "cell_type": "code",
   "execution_count": null,
   "outputs": [],
   "source": [
    "# ---- objective          ---------\n",
    "\n",
    "\n",
    "Q = diag(MX([100, 100, 100, 0, 0, 0, 0, 0, 0, 0, 0, 0]))\n",
    "R = diag(MX([10.0, 10.0, 10.0, 10.0]))\n",
    "\n",
    "# Add the objective function to the optimization problem\n",
    "objective = 0  # Initialize the objective function\n",
    "\n",
    "# Loop over the control horizon\n",
    "for k in range(Nhoriz):\n",
    "    # State tracking cost\n",
    "    state_error = X[:, k] - Xref[:, k]  # State deviation\n",
    "    objective += state_error.T @ Q @ state_error  # Quadratic cost for state deviation\n",
    "\n",
    "    # Control effort cost\n",
    "    if k < Nhoriz - 1:  # No control input for the last stage\n",
    "        control_error = U[:, k]  # Assuming zero as the reference for control inputs\n",
    "        objective += control_error.T @ R @ control_error  # Quadratic cost for control effort\n",
    "\n",
    "# Terminal cost\n",
    "terminal_error = X[:, Nhoriz] - Xref[:, Nhoriz]  # Terminal state deviation\n",
    "objective += terminal_error.T @ Q @ terminal_error  # Quadratic cost for terminal state deviation\n",
    "\n",
    "# Solve/deploy problem\n",
    "# Numerical backends, 3rd-party solvers\n",
    "# Ipopt\n",
    "\n",
    "opti.minimize(objective)  # Set the objective in the optimization problem"
   ],
   "metadata": {
    "collapsed": false
   },
   "id": "f09dd5144b2a1c01"
  },
  {
   "cell_type": "code",
   "execution_count": null,
   "outputs": [],
   "source": [
    "# ---- dynamic constraints --------\n",
    "\n",
    "# Dynamics constraints and other constraints will be added here\n",
    "\n",
    "\n",
    "\n",
    "T = 1\n",
    "\n",
    "dt = T / Nhoriz  # length of a control interval\n",
    "for k in range(Nhoriz):  # loop over control intervals\n",
    "    # Runge-Kutta 4 integration\n",
    "    k1 = f(X[:, k], U[:, k])\n",
    "    k2 = f(X[:, k] + dt / 2 * k1, U[:, k])\n",
    "    k3 = f(X[:, k] + dt / 2 * k2, U[:, k])\n",
    "    k4 = f(X[:, k] + dt * k3, U[:, k])\n",
    "    x_next = X[:, k] + dt / 6 * (k1 + 2 * k2 + 2 * k3 + k4)\n",
    "    opti.subject_to(X[:, k + 1] == x_next)  # close the gaps\n",
    "\n",
    "# ---- path constraints -----------\n",
    "#opti.subject_to(speed <= limit(pos))  # track speed limit\n",
    "#opti.subject_to(opti.bounded(0, U, 1))  # control is limited\n",
    "\n",
    "# ---- boundary conditions --------\n",
    "#opti.subject_to(pos[0] == 0)  # start at position 0 ...\n",
    "#opti.subject_to(speed[0] == 0)  # ... from stand-still\n",
    "#opti.subject_to(pos[-1] == 1)  # finish line at position 1\n",
    "\n",
    "# ---- initial values for solver ---\n",
    "opti.set_initial(x_pos, 0)\n",
    "opti.set_initial(y, 0)\n",
    "opti.set_initial(z, 0)\n",
    "opti.set_initial(phi, 0)\n",
    "opti.set_initial(theta, 0)\n",
    "opti.set_initial(psi, 0)\n",
    "opti.set_initial(x_pos_dot, 0)\n",
    "opti.set_initial(y_dot, 0)\n",
    "opti.set_initial(z_dot, 0)\n",
    "opti.set_initial(phi_dot, 0)\n",
    "opti.set_initial(theta_dot, 0)\n",
    "opti.set_initial(psi_dot, 0)"
   ],
   "metadata": {
    "collapsed": false
   },
   "id": "f235d3a13a73284a"
  },
  {
   "cell_type": "code",
   "execution_count": null,
   "outputs": [],
   "source": [
    "# ---- solve NLP              ------\n",
    "\n",
    "# ---- Setup solver  -----\n",
    "opts = {'ipopt': {'print_level': 1}, 'print_time': 0}\n",
    "opti.solver('ipopt', opts)\n",
    "\n",
    "# ---- Solve the optimization problem -----\n",
    "sol = opti.solve()\n",
    "\n",
    "# Now you would extract the optimal trajectory and control inputs\n",
    "optimal_x = sol.value(X)\n",
    "optimal_u = sol.value(U)"
   ],
   "metadata": {
    "collapsed": false
   },
   "id": "f94adce3f7c92577"
  },
  {
   "cell_type": "code",
   "execution_count": null,
   "outputs": [],
   "source": [
    "# ---- post-processing        ------\n",
    "from pylab import plot, step, figure, legend, show, spy\n",
    "\n",
    "\n",
    "\n",
    "# MISC"
   ],
   "metadata": {
    "collapsed": false
   },
   "id": "6d055a911b45c366"
  }
 ],
 "metadata": {
  "kernelspec": {
   "display_name": "Python 3",
   "language": "python",
   "name": "python3"
  },
  "language_info": {
   "codemirror_mode": {
    "name": "ipython",
    "version": 2
   },
   "file_extension": ".py",
   "mimetype": "text/x-python",
   "name": "python",
   "nbconvert_exporter": "python",
   "pygments_lexer": "ipython2",
   "version": "2.7.6"
  }
 },
 "nbformat": 4,
 "nbformat_minor": 5
}
