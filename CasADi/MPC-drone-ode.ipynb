{
 "cells": [
  {
   "cell_type": "code",
   "execution_count": 1,
   "id": "initial_id",
   "metadata": {
    "ExecuteTime": {
     "end_time": "2024-02-01T06:47:29.576993253Z",
     "start_time": "2024-02-01T06:47:29.403488346Z"
    }
   },
   "outputs": [
    {
     "data": {
      "text/plain": "Function(f:(x[12],u[4])->(x_dot[12]) MXFunction)"
     },
     "execution_count": 1,
     "metadata": {},
     "output_type": "execute_result"
    }
   ],
   "source": [
    "from casadi import *\n",
    "\n",
    "# Paper Cascaded Nonlinear MPC for Realtime Quadrotor Position Tracking. Schlagenhauf\n",
    "\n",
    "# Define system, static/kinematic/dynamic model. Typically Differential (Algebraic) equations\n",
    "\n",
    "# Expression graphs represent a computation in the computer memory. SX, MX\n",
    "\n",
    "\n",
    "Ix = 0.0000166  #Moment of inertia around p_WB_W_x-axis, source: Julian Förster's ETH Bachelor Thesis\n",
    "Iy = 0.0000167  #Moment of inertia around p_WB_W_y-axis, source: Julian Förster's ETH Bachelor Thesis\n",
    "Iz = 0.00000293 #Moment of inertia around p_WB_W_z-axis, source: Julian Förster's ETH Bachelor Thesis\n",
    "m = 0.029 #mass of Crazyflie 2.1\n",
    "g = 9.81\n",
    "\n",
    "Nx = 12\n",
    "Nu = 4\n",
    "Nhoriz = 10\n",
    "\n",
    "# x(t) = [x, y, z, phi, theta, psi, x_dot, y_dot, z_dot, phi_dot, ˙theta_dot, psi_dot]T\n",
    "X = MX.sym(\"x\",Nx)\n",
    "U = MX.sym(\"u\",Nu)\n",
    "\n",
    "\n",
    "x_pos = X[0]  # x-position\n",
    "y = X[1]  # y-position\n",
    "z = X[2]  # z-position\n",
    "phi = X[3]  # phi-angle, Euler angles\n",
    "theta = X[4]  # theta-angle, Euler angles\n",
    "psi = X[5]  # psi-angle, Euler angles\n",
    "x_pos_dot = X[6]  # x velocity\n",
    "y_dot = X[7]  # y velocity\n",
    "z_dot = X[8]  # z velocity\n",
    "phi_dot = X[9]  # phi_dot, angular velocity\n",
    "theta_dot = X[10]  # theta_dot\n",
    "psi_dot = X[11]  # psi-dot\n",
    "\n",
    "thrust = U[0]\n",
    "tau_phi = U[1]\n",
    "tau_theta = U[2]\n",
    "tau_psi = U[3]\n",
    "\n",
    "\n",
    "# x˙(t) = [x_dot, y_dot, z_dot, phi_dot, ˙theta_dot, psi_dot, x_ddot, y_ddot, z_ddot, phi_ddot, ˙theta_ddot, psi_ddot]T\n",
    "\n",
    "\n",
    "x_pos_ddot = (cos(phi) * sin(phi) * cos(psi) + sin(phi) * sin(phi))  * thrust / m\n",
    "y_ddot = (cos(phi) * sin(phi) * cos(psi) - sin(phi) * sin(phi))  * thrust / m\n",
    "z_ddot = -g + (cos(phi) * cos(theta)) * thrust / m\n",
    "phi_ddot = theta_dot * psi_dot * (Iy - Iz) / (Ix) + tau_phi / Ix\n",
    "theta_ddot = phi_dot * psi_dot * (Iz - Ix) / (Iy) + tau_phi / Iy\n",
    "psi_ddot = theta_dot * phi_dot * (Ix - Iy) / (Iz) + tau_phi / Iz\n",
    "\n",
    "x_dot = vertcat(x_pos_dot, y_dot, z_dot, phi_dot, theta_dot, psi_dot, x_pos_ddot, y_ddot, z_ddot, phi_ddot, theta_ddot, psi_ddot)\n",
    "\n",
    "f = Function('f', [X, U], [x_dot], ['x','u'],['x_dot'])\n",
    "\n",
    "f"
   ]
  },
  {
   "cell_type": "code",
   "execution_count": 4,
   "id": "e2c72a45bc90319a",
   "metadata": {
    "collapsed": false,
    "ExecuteTime": {
     "end_time": "2024-02-01T06:50:14.176032919Z",
     "start_time": "2024-02-01T06:50:14.165222175Z"
    }
   },
   "outputs": [
    {
     "data": {
      "text/plain": "{'x': MX(x),\n 'p': MX(u),\n 'ode': MX(@1=x[9], @2=x[10], @3=x[11], @4=x[3], @5=x[5], @6=u[0], @7=u[1], vertcat(x[6], x[7], x[8], @1, @2, @3, (((((cos(@4)*sin(@4))*cos(@5))+sq(sin(@4)))*@6)/0.029), (((((cos(@4)*sin(@4))*cos(@5))-sq(sin(@4)))*@6)/0.029), (-9.81+(((cos(@4)*cos(x[4]))*@6)/0.029)), (((1.377e-05*(@2*@3))/1.66e-05)+(@7/1.66e-05)), (((-1.367e-05*(@1*@3))/1.67e-05)+(@7/1.67e-05)), (((-1e-07*(@2*@1))/2.93e-06)+(@7/2.93e-06))))}"
     },
     "execution_count": 4,
     "metadata": {},
     "output_type": "execute_result"
    }
   ],
   "source": [
    "# Define time horizon and control intervals\n",
    "T = 10  # Total time horizon\n",
    "N = 20  # Number of control intervals\n",
    "dt = T / N  # Duration of each control interval\n",
    "\n",
    "# Corrected definition of the integrator\n",
    "# Note: 't0' is not explicitly needed if the integration starts at time 0\n",
    "ode = {'x': X, 'p': U, 'ode': f(X, U)}\n",
    "integrator = casadi.integrator('integrator', 'cvodes', ode, 0, dt)\n",
    "\n",
    "ode"
   ]
  },
  {
   "cell_type": "code",
   "execution_count": 5,
   "id": "24781c5cf0f3985b",
   "metadata": {
    "collapsed": false,
    "ExecuteTime": {
     "end_time": "2024-02-01T06:50:29.579155866Z",
     "start_time": "2024-02-01T06:50:29.568878194Z"
    }
   },
   "outputs": [
    {
     "data": {
      "text/plain": "Function(integrator:(x0[12],z0[0],p[4],u[0],adj_xf[],adj_zf[],adj_qf[])->(xf[12],zf[0],qf[0],adj_x0[],adj_z0[],adj_p[],adj_u[]) CvodesInterface)"
     },
     "execution_count": 5,
     "metadata": {},
     "output_type": "execute_result"
    }
   ],
   "source": [
    "integrator"
   ]
  },
  {
   "cell_type": "code",
   "execution_count": 6,
   "id": "f09dd5144b2a1c01",
   "metadata": {
    "collapsed": false,
    "ExecuteTime": {
     "end_time": "2024-02-01T06:51:22.347568333Z",
     "start_time": "2024-02-01T06:51:22.301323582Z"
    }
   },
   "outputs": [
    {
     "ename": "RuntimeError",
     "evalue": ".../casadi/core/sparsity_internal.cpp:2196: Assertion \"in_range(cc, -size2()+ind1, size2()+ind1)\" failed:\nOut of bounds error. Got elements in range [1,1], which is outside the range [-1,1).",
     "output_type": "error",
     "traceback": [
      "\u001B[0;31m---------------------------------------------------------------------------\u001B[0m",
      "\u001B[0;31mRuntimeError\u001B[0m                              Traceback (most recent call last)",
      "\u001B[0;32m/tmp/ipykernel_7594/927826683.py\u001B[0m in \u001B[0;36m?\u001B[0;34m()\u001B[0m\n\u001B[1;32m     11\u001B[0m \u001B[0;34m\u001B[0m\u001B[0m\n\u001B[1;32m     12\u001B[0m \u001B[0;31m# Sum over the prediction horizon\u001B[0m\u001B[0;34m\u001B[0m\u001B[0;34m\u001B[0m\u001B[0m\n\u001B[1;32m     13\u001B[0m \u001B[0;32mfor\u001B[0m \u001B[0mk\u001B[0m \u001B[0;32min\u001B[0m \u001B[0mrange\u001B[0m\u001B[0;34m(\u001B[0m\u001B[0mN\u001B[0m\u001B[0;34m)\u001B[0m\u001B[0;34m:\u001B[0m\u001B[0;34m\u001B[0m\u001B[0;34m\u001B[0m\u001B[0m\n\u001B[1;32m     14\u001B[0m     \u001B[0;31m# Predicted state at step k\u001B[0m\u001B[0;34m\u001B[0m\u001B[0;34m\u001B[0m\u001B[0m\n\u001B[0;32m---> 15\u001B[0;31m     \u001B[0mXk\u001B[0m \u001B[0;34m=\u001B[0m \u001B[0mintegrator\u001B[0m\u001B[0;34m(\u001B[0m\u001B[0mx0\u001B[0m\u001B[0;34m=\u001B[0m\u001B[0mX\u001B[0m\u001B[0;34m[\u001B[0m\u001B[0;34m:\u001B[0m\u001B[0;34m,\u001B[0m \u001B[0mk\u001B[0m\u001B[0;34m]\u001B[0m\u001B[0;34m,\u001B[0m \u001B[0mp\u001B[0m\u001B[0;34m=\u001B[0m\u001B[0mU\u001B[0m\u001B[0;34m[\u001B[0m\u001B[0;34m:\u001B[0m\u001B[0;34m,\u001B[0m \u001B[0mk\u001B[0m\u001B[0;34m]\u001B[0m\u001B[0;34m)\u001B[0m\u001B[0;34m[\u001B[0m\u001B[0;34m'xf'\u001B[0m\u001B[0;34m]\u001B[0m\u001B[0;34m\u001B[0m\u001B[0;34m\u001B[0m\u001B[0m\n\u001B[0m\u001B[1;32m     16\u001B[0m \u001B[0;34m\u001B[0m\u001B[0m\n\u001B[1;32m     17\u001B[0m     \u001B[0;31m# Update cost function\u001B[0m\u001B[0;34m\u001B[0m\u001B[0;34m\u001B[0m\u001B[0m\n\u001B[1;32m     18\u001B[0m     \u001B[0mcost\u001B[0m \u001B[0;34m+=\u001B[0m \u001B[0;34m(\u001B[0m\u001B[0mXk\u001B[0m \u001B[0;34m-\u001B[0m \u001B[0mx_des\u001B[0m\u001B[0;34m)\u001B[0m\u001B[0;34m.\u001B[0m\u001B[0mT\u001B[0m \u001B[0;34m@\u001B[0m \u001B[0mQ\u001B[0m \u001B[0;34m@\u001B[0m \u001B[0;34m(\u001B[0m\u001B[0mXk\u001B[0m \u001B[0;34m-\u001B[0m \u001B[0mx_des\u001B[0m\u001B[0;34m)\u001B[0m \u001B[0;34m+\u001B[0m \u001B[0;34m(\u001B[0m\u001B[0mU\u001B[0m\u001B[0;34m[\u001B[0m\u001B[0;34m:\u001B[0m\u001B[0;34m,\u001B[0m \u001B[0mk\u001B[0m\u001B[0;34m]\u001B[0m \u001B[0;34m-\u001B[0m \u001B[0mu_des\u001B[0m\u001B[0;34m)\u001B[0m\u001B[0;34m.\u001B[0m\u001B[0mT\u001B[0m \u001B[0;34m@\u001B[0m \u001B[0mR\u001B[0m \u001B[0;34m@\u001B[0m \u001B[0;34m(\u001B[0m\u001B[0mU\u001B[0m\u001B[0;34m[\u001B[0m\u001B[0;34m:\u001B[0m\u001B[0;34m,\u001B[0m \u001B[0mk\u001B[0m\u001B[0;34m]\u001B[0m \u001B[0;34m-\u001B[0m \u001B[0mu_des\u001B[0m\u001B[0;34m)\u001B[0m\u001B[0;34m\u001B[0m\u001B[0;34m\u001B[0m\u001B[0m\n",
      "\u001B[0;32m~/anaconda3/envs/CasADi-Jupyter/lib/python3.12/site-packages/casadi/casadi.py\u001B[0m in \u001B[0;36m?\u001B[0;34m(self, s)\u001B[0m\n\u001B[1;32m  16294\u001B[0m     \u001B[0;32mdef\u001B[0m \u001B[0m__getitem__\u001B[0m\u001B[0;34m(\u001B[0m\u001B[0mself\u001B[0m\u001B[0;34m,\u001B[0m \u001B[0ms\u001B[0m\u001B[0;34m)\u001B[0m\u001B[0;34m:\u001B[0m\u001B[0;34m\u001B[0m\u001B[0;34m\u001B[0m\u001B[0m\n\u001B[1;32m  16295\u001B[0m           \u001B[0;32mif\u001B[0m \u001B[0misinstance\u001B[0m\u001B[0;34m(\u001B[0m\u001B[0ms\u001B[0m\u001B[0;34m,\u001B[0m \u001B[0mtuple\u001B[0m\u001B[0;34m)\u001B[0m \u001B[0;32mand\u001B[0m \u001B[0mlen\u001B[0m\u001B[0;34m(\u001B[0m\u001B[0ms\u001B[0m\u001B[0;34m)\u001B[0m\u001B[0;34m==\u001B[0m\u001B[0;36m2\u001B[0m\u001B[0;34m:\u001B[0m\u001B[0;34m\u001B[0m\u001B[0;34m\u001B[0m\u001B[0m\n\u001B[1;32m  16296\u001B[0m             \u001B[0;32mif\u001B[0m \u001B[0ms\u001B[0m\u001B[0;34m[\u001B[0m\u001B[0;36m1\u001B[0m\u001B[0;34m]\u001B[0m \u001B[0;32mis\u001B[0m \u001B[0;32mNone\u001B[0m\u001B[0;34m:\u001B[0m \u001B[0;32mraise\u001B[0m \u001B[0mTypeError\u001B[0m\u001B[0;34m(\u001B[0m\u001B[0;34m\"Cannot slice with None\"\u001B[0m\u001B[0;34m)\u001B[0m\u001B[0;34m\u001B[0m\u001B[0;34m\u001B[0m\u001B[0m\n\u001B[0;32m> 16297\u001B[0;31m             \u001B[0;32mreturn\u001B[0m \u001B[0mself\u001B[0m\u001B[0;34m.\u001B[0m\u001B[0mget\u001B[0m\u001B[0;34m(\u001B[0m\u001B[0;32mFalse\u001B[0m\u001B[0;34m,\u001B[0m \u001B[0ms\u001B[0m\u001B[0;34m[\u001B[0m\u001B[0;36m0\u001B[0m\u001B[0;34m]\u001B[0m\u001B[0;34m,\u001B[0m \u001B[0ms\u001B[0m\u001B[0;34m[\u001B[0m\u001B[0;36m1\u001B[0m\u001B[0;34m]\u001B[0m\u001B[0;34m)\u001B[0m\u001B[0;34m\u001B[0m\u001B[0;34m\u001B[0m\u001B[0m\n\u001B[0m\u001B[1;32m  16298\u001B[0m           \u001B[0;32mreturn\u001B[0m \u001B[0mself\u001B[0m\u001B[0;34m.\u001B[0m\u001B[0mget\u001B[0m\u001B[0;34m(\u001B[0m\u001B[0;32mFalse\u001B[0m\u001B[0;34m,\u001B[0m \u001B[0ms\u001B[0m\u001B[0;34m)\u001B[0m\u001B[0;34m\u001B[0m\u001B[0;34m\u001B[0m\u001B[0m\n",
      "\u001B[0;32m~/anaconda3/envs/CasADi-Jupyter/lib/python3.12/site-packages/casadi/casadi.py\u001B[0m in \u001B[0;36m?\u001B[0;34m(self, *args)\u001B[0m\n\u001B[1;32m  15568\u001B[0m \u001B[0;34m\u001B[0m\u001B[0m\n\u001B[1;32m  15569\u001B[0m \u001B[0;34m\u001B[0m\u001B[0m\n\u001B[1;32m  15570\u001B[0m \u001B[0;34m\u001B[0m\u001B[0m\n\u001B[1;32m  15571\u001B[0m         \"\"\"\n\u001B[0;32m> 15572\u001B[0;31m         \u001B[0;32mreturn\u001B[0m \u001B[0m_casadi\u001B[0m\u001B[0;34m.\u001B[0m\u001B[0mMX_get\u001B[0m\u001B[0;34m(\u001B[0m\u001B[0mself\u001B[0m\u001B[0;34m,\u001B[0m \u001B[0;34m*\u001B[0m\u001B[0margs\u001B[0m\u001B[0;34m)\u001B[0m\u001B[0;34m\u001B[0m\u001B[0;34m\u001B[0m\u001B[0m\n\u001B[0m",
      "\u001B[0;31mRuntimeError\u001B[0m: .../casadi/core/sparsity_internal.cpp:2196: Assertion \"in_range(cc, -size2()+ind1, size2()+ind1)\" failed:\nOut of bounds error. Got elements in range [1,1], which is outside the range [-1,1)."
     ]
    }
   ],
   "source": [
    "# Example desired state (you should define this based on your specific goal)\n",
    "x_des = MX.sym('x_des', Nx)\n",
    "u_des = MX.zeros(Nu)  # Assuming desired control is to minimize input usage\n",
    "\n",
    "# Quadratic cost function components\n",
    "Q = MX.sym('Q', Nx, Nx)  # State weighting matrix\n",
    "R = MX.sym('R', Nu, Nu)  # Control input weighting matrix\n",
    "\n",
    "# Initialize cost\n",
    "cost = 0\n",
    "\n",
    "# Sum over the prediction horizon\n",
    "for k in range(N):\n",
    "    # Predicted state at step k\n",
    "    Xk = integrator(x0=X[:, k], p=U[:, k])['xf']\n",
    "    \n",
    "    # Update cost function\n",
    "    cost += (Xk - x_des).T @ Q @ (Xk - x_des) + (U[:, k] - u_des).T @ R @ (U[:, k] - u_des)\n"
   ]
  },
  {
   "cell_type": "code",
   "execution_count": null,
   "outputs": [],
   "source": [],
   "metadata": {
    "collapsed": false
   },
   "id": "c5171089a5a3c265"
  },
  {
   "cell_type": "code",
   "execution_count": null,
   "outputs": [],
   "source": [],
   "metadata": {
    "collapsed": false
   },
   "id": "d854826848d1dc27"
  }
 ],
 "metadata": {
  "kernelspec": {
   "display_name": "Python 3 (ipykernel)",
   "language": "python",
   "name": "python3"
  },
  "language_info": {
   "codemirror_mode": {
    "name": "ipython",
    "version": 3
   },
   "file_extension": ".py",
   "mimetype": "text/x-python",
   "name": "python",
   "nbconvert_exporter": "python",
   "pygments_lexer": "ipython3",
   "version": "3.12.1"
  }
 },
 "nbformat": 4,
 "nbformat_minor": 5
}
