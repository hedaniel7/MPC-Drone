{
 "cells": [
  {
   "cell_type": "code",
   "execution_count": 2,
   "id": "initial_id",
   "metadata": {
    "ExecuteTime": {
     "end_time": "2024-01-28T10:24:35.010948487Z",
     "start_time": "2024-01-28T10:24:34.906137864Z"
    }
   },
   "outputs": [],
   "source": [
    "# Drone Position control with MPC\n",
    "# ----------------------\n",
    "# An optimal control problem (OCP),\n",
    "# solved with direct multiple-shooting.\n",
    "\n",
    "from casadi import *\n",
    "import numpy as np\n",
    "\n",
    "# Paper Cascaded Nonlinear MPC for Realtime Quadrotor Position Tracking. Schlagenhauf\n",
    "# Paper Non-Linear Model Predictive Control Using CasADi Package for Trajectory Tracking of Quadrotor. Elhesasy\n",
    "\n",
    "# 1) Define system, static/kinematic/dynamic model. Typically Differential (Algebraic) equations\n",
    "# Expression graphs represent a computation in the computer memory. SX, MX\n",
    "\n",
    "# Ansatz https://github.com/casadi/casadi/blob/70f5cc19a288a1e753d06670060d2563aa63fafa/docs/examples/python/rocket.py\n",
    "\n",
    "opti = Opti()  # Optimization problem\n",
    "\n",
    "Ix = 0.0000166  # Moment of inertia around p_WB_W_x-axis, source: Julian Förster's ETH Bachelor Thesis\n",
    "Iy = 0.0000167  # Moment of inertia around p_WB_W_y-axis, source: Julian Förster's ETH Bachelor Thesis\n",
    "Iz = 0.00000293  # Moment of inertia around p_WB_W_z-axis, source: Julian Förster's ETH Bachelor Thesis\n",
    "m = 0.029  # mass of Crazyflie 2.1\n",
    "g = 9.81\n",
    "\n",
    "Nx = 12\n",
    "Nu = 4\n",
    "Nhoriz = 10"
   ]
  },
  {
   "cell_type": "code",
   "execution_count": 3,
   "id": "e2c72a45bc90319a",
   "metadata": {
    "collapsed": false,
    "ExecuteTime": {
     "end_time": "2024-01-28T10:24:36.735169495Z",
     "start_time": "2024-01-28T10:24:36.733709415Z"
    }
   },
   "outputs": [],
   "source": [
    "# ---- decision variables ---------\n",
    "\n",
    "# x(t) = [x, y, z, phi, theta, psi, x_dot, y_dot, z_dot, phi_dot, ˙theta_dot, psi_dot]T\n",
    "X = opti.variable(Nx, Nhoriz + 1)\n",
    "U = opti.variable(Nu, Nhoriz)\n",
    "\n",
    "xref = MX.zeros(Nx,1)\n",
    "xref[2] = 1\n",
    "\n",
    "Xref = repmat(xref, 1, Nhoriz + 1)\n",
    "\n",
    "# repmat(v, n, m): Repeat expression v\n",
    "# n times vertically and m times horizontally.\n",
    "# repmat(SX(3), 2, 1) will create a 2 - by - 1 matrix with all elements 3.\n",
    "\n",
    "x = MX.sym(\"x\", Nx)\n",
    "u = MX.sym(\"u\", Nu)\n",
    "\n",
    "# Ansatz: Nonlinear MPC tutorial with CasADi 3.5 https://www.youtube.com/watch?v=JI-AyLv68Xs&ab_channel=JorisGillis\n",
    "\n",
    "x_pos = x[0]  # x-position\n",
    "y = x[1]  # y-position\n",
    "z = x[2]  # z-position\n",
    "phi = x[3]  # phi-angle, Euler angles\n",
    "theta = x[4]  # theta-angle, Euler angles\n",
    "psi = x[5]  # psi-angle, Euler angles\n",
    "x_pos_dot = x[6]  # x velocity\n",
    "y_dot = x[7]  # y velocity\n",
    "z_dot = x[8]  # z velocity\n",
    "phi_dot = x[9]  # phi_dot, angular velocity\n",
    "theta_dot = x[10]  # theta_dot\n",
    "psi_dot = x[11]  # psi-dot\n",
    "\n",
    "thrust = u[0]\n",
    "tau_phi = u[1]\n",
    "tau_theta = u[2]\n",
    "tau_psi = u[3]\n",
    "\n",
    "x_pos_ddot = (cos(phi) * sin(phi) * cos(psi) + sin(phi) * sin(phi)) * thrust / m\n",
    "y_ddot = (cos(phi) * sin(phi) * cos(psi) - sin(phi) * sin(phi)) * thrust / m\n",
    "z_ddot = -g + (cos(phi) * cos(theta)) * thrust / m\n",
    "phi_ddot = theta_dot * psi_dot * (Iy - Iz) / Ix + tau_phi / Ix\n",
    "theta_ddot = phi_dot * psi_dot * (Iz - Ix) / Iy + tau_theta / Iy\n",
    "psi_ddot = theta_dot * phi_dot * (Ix - Iy) / Iz + tau_psi / Iz\n",
    "\n",
    "# x˙(t) = [x_dot, y_dot, z_dot, phi_dot, ˙theta_dot, psi_dot, x_ddot, y_ddot, z_ddot, phi_ddot, ˙theta_ddot, psi_ddot]T\n",
    "ode = vertcat(x_pos_dot, y_dot, z_dot, phi_dot, theta_dot, psi_dot, x_pos_ddot, y_ddot, z_ddot, phi_ddot, theta_ddot, psi_ddot)"
   ]
  },
  {
   "cell_type": "code",
   "execution_count": 4,
   "id": "24781c5cf0f3985b",
   "metadata": {
    "collapsed": false,
    "ExecuteTime": {
     "end_time": "2024-01-28T10:24:39.062389435Z",
     "start_time": "2024-01-28T10:24:39.057623234Z"
    }
   },
   "outputs": [
    {
     "data": {
      "text/plain": "Function(f:(x[12],u[4])->(x_dot[12]) MXFunction)"
     },
     "execution_count": 4,
     "metadata": {},
     "output_type": "execute_result"
    }
   ],
   "source": [
    "# 2) Define problem based on system. Initial value/Integration/Rootfinding Problems/\n",
    "# Nonlinear constrained optimization\n",
    "\n",
    "# Expression graphs -create-> create functions\n",
    "\n",
    "f = Function('f', [x, u], [ode], ['x', 'u'], ['x_dot'])\n",
    "\n",
    "#f = lambda x,u: x_dot # f(x,u) = dx/dt  \n",
    "\n",
    "f"
   ]
  },
  {
   "cell_type": "code",
   "execution_count": 5,
   "outputs": [],
   "source": [
    "# Integrate with Explicit Euler over 0.2 seconds\n",
    "dt = 0.01  # Time step\n",
    "xj = x\n",
    "for j in range(20):\n",
    "  fj = f(xj,u)\n",
    "  xj += dt*fj\n",
    "  \n",
    "# Discrete time dynamics function\n",
    "F = Function('F', [x,u],[xj])"
   ],
   "metadata": {
    "collapsed": false,
    "ExecuteTime": {
     "end_time": "2024-01-28T10:24:41.134229016Z",
     "start_time": "2024-01-28T10:24:41.131054075Z"
    }
   },
   "id": "97cc72380cc3cbd6"
  },
  {
   "cell_type": "code",
   "execution_count": 15,
   "id": "f09dd5144b2a1c01",
   "metadata": {
    "collapsed": false,
    "ExecuteTime": {
     "end_time": "2024-01-28T09:11:45.310455381Z",
     "start_time": "2024-01-28T09:11:45.306649600Z"
    }
   },
   "outputs": [],
   "source": [
    "# ---- objective          ---------\n",
    "\n",
    "\n",
    "Q = diag(MX([100, 100, 100, 0, 0, 0, 0, 0, 0, 0, 0, 0]))\n",
    "R = diag(MX([10.0, 10.0, 10.0, 10.0]))\n",
    "\n",
    "# Add the objective function to the optimization problem\n",
    "objective = 0  # Initialize the objective function\n",
    "\n",
    "# Loop over the control horizon\n",
    "for k in range(Nhoriz):\n",
    "    # State tracking cost\n",
    "    state_error = X[:, k] - Xref[:, k]  # State deviation\n",
    "    objective += state_error.T @ Q @ state_error  # Quadratic cost for state deviation\n",
    "\n",
    "    # Control effort cost\n",
    "    if k < Nhoriz - 1:  # No control input for the last stage\n",
    "        control_error = U[:, k]  # Assuming zero as the reference for control inputs\n",
    "        objective += control_error.T @ R @ control_error  # Quadratic cost for control effort\n",
    "\n",
    "# Terminal cost\n",
    "terminal_error = X[:, Nhoriz] - Xref[:, Nhoriz]  # Terminal state deviation\n",
    "objective += terminal_error.T @ Q @ terminal_error  # Quadratic cost for terminal state deviation\n",
    "\n",
    "# Solve/deploy problem\n",
    "# Numerical backends, 3rd-party solvers\n",
    "# Ipopt\n",
    "\n",
    "opti.minimize(objective)  # Set the objective in the optimization problem"
   ]
  }
 ],
 "metadata": {
  "kernelspec": {
   "display_name": "Python 3 (ipykernel)",
   "language": "python",
   "name": "python3"
  },
  "language_info": {
   "codemirror_mode": {
    "name": "ipython",
    "version": 3
   },
   "file_extension": ".py",
   "mimetype": "text/x-python",
   "name": "python",
   "nbconvert_exporter": "python",
   "pygments_lexer": "ipython3",
   "version": "3.12.1"
  }
 },
 "nbformat": 4,
 "nbformat_minor": 5
}
