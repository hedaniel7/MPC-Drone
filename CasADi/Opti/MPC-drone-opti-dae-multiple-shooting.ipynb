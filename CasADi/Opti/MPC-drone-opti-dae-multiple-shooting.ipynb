{
 "cells": [
  {
   "cell_type": "code",
   "execution_count": 20,
   "id": "initial_id",
   "metadata": {
    "ExecuteTime": {
     "end_time": "2024-01-28T09:43:23.136866923Z",
     "start_time": "2024-01-28T09:43:23.127162426Z"
    }
   },
   "outputs": [],
   "source": [
    "# Drone Position control with MPC\n",
    "# ----------------------\n",
    "# An optimal control problem (OCP),\n",
    "# solved with direct multiple-shooting.\n",
    "\n",
    "from casadi import *\n",
    "import numpy as np\n",
    "\n",
    "# Paper Cascaded Nonlinear MPC for Realtime Quadrotor Position Tracking. Schlagenhauf\n",
    "# Paper Non-Linear Model Predictive Control Using CasADi Package for Trajectory Tracking of Quadrotor. Elhesasy\n",
    "\n",
    "# 1) Define system, static/kinematic/dynamic model. Typically Differential (Algebraic) equations\n",
    "# Expression graphs represent a computation in the computer memory. SX, MX\n",
    "\n",
    "opti = Opti()  # Optimization problem\n",
    "\n",
    "Ix = 0.0000166  # Moment of inertia around p_WB_W_x-axis, source: Julian Förster's ETH Bachelor Thesis\n",
    "Iy = 0.0000167  # Moment of inertia around p_WB_W_y-axis, source: Julian Förster's ETH Bachelor Thesis\n",
    "Iz = 0.00000293  # Moment of inertia around p_WB_W_z-axis, source: Julian Förster's ETH Bachelor Thesis\n",
    "m = 0.029  # mass of Crazyflie 2.1\n",
    "g = 9.81\n",
    "\n",
    "Nx = 12\n",
    "Nu = 4\n",
    "Nhoriz = 10"
   ]
  },
  {
   "cell_type": "code",
   "execution_count": 21,
   "id": "e2c72a45bc90319a",
   "metadata": {
    "collapsed": false,
    "ExecuteTime": {
     "end_time": "2024-01-28T09:43:25.628236860Z",
     "start_time": "2024-01-28T09:43:25.624790429Z"
    }
   },
   "outputs": [],
   "source": [
    "# ---- decision variables ---------\n",
    "\n",
    "# x(t) = [x, y, z, phi, theta, psi, x_dot, y_dot, z_dot, phi_dot, ˙theta_dot, psi_dot]T\n",
    "X = opti.variable(Nx, Nhoriz + 1)\n",
    "U = opti.variable(Nu, Nhoriz)\n",
    "\n",
    "xref = MX.zeros(Nx,1)\n",
    "xref[2] = 1\n",
    "\n",
    "Xref = repmat(xref, 1, Nhoriz + 1)\n",
    "\n",
    "# repmat(v, n, m): Repeat expression v\n",
    "# n times vertically and m times horizontally.\n",
    "# repmat(SX(3), 2, 1) will create a 2 - by - 1 matrix with all elements 3.\n",
    "\n",
    "x = MX.sym(\"x\", Nx)\n",
    "u = MX.sym(\"u\", Nu)\n",
    "\n",
    "\n",
    "# Ansatz: Nonlinear MPC tutorial with CasADi 3.5 https://www.youtube.com/watch?v=JI-AyLv68Xs&ab_channel=JorisGillis\n",
    "\n",
    "x_pos = x[0]  # x-position\n",
    "y = x[1]  # y-position\n",
    "z = x[2]  # z-position\n",
    "phi = x[3]  # phi-angle, Euler angles\n",
    "theta = x[4]  # theta-angle, Euler angles\n",
    "psi = x[5]  # psi-angle, Euler angles\n",
    "x_pos_dot = x[6]  # x velocity\n",
    "y_dot = x[7]  # y velocity\n",
    "z_dot = x[8]  # z velocity\n",
    "phi_dot = x[9]  # phi_dot, angular velocity\n",
    "theta_dot = x[10]  # theta_dot\n",
    "psi_dot = x[11]  # psi-dot\n",
    "\n",
    "thrust = u[0]\n",
    "tau_phi = u[1]\n",
    "tau_theta = u[2]\n",
    "tau_psi = u[3]\n",
    "\n",
    "\n",
    "'''\n",
    "x_pos = X[0,:]  # x-position\n",
    "y = X[1,:]  # y-position\n",
    "z = X[2,:]  # z-position\n",
    "phi = X[3,:]  # phi-angle, Euler angles\n",
    "theta = X[4,:]  # theta-angle, Euler angles\n",
    "psi = X[5,:]  # psi-angle, Euler angles\n",
    "x_pos_dot = X[6,:]  # x velocity\n",
    "y_dot = X[7,:]  # y velocity\n",
    "z_dot = X[8,:]  # z velocity\n",
    "phi_dot = X[9,:]  # phi_dot, angular velocity\n",
    "theta_dot = X[10,:]  # theta_dot\n",
    "psi_dot = X[11,:]  # psi-dot\n",
    "'''\n",
    "\n",
    "\n",
    "#x = vertcat(x_pos, y, z, phi, theta, psi, x_pos_dot, y_dot, z_dot, phi_dot, theta_dot, psi_dot)\n",
    "\n",
    "\n",
    "'''\n",
    "thrust = U[0,:]\n",
    "tau_phi = U[1,:]\n",
    "tau_theta = U[2,:]\n",
    "tau_psi = U[3,:]\n",
    "\n",
    "-> gets me this error\n",
    "Note: you cannot use a raw MX.sym in your Opti problem, only if you package it in a CasADi Function.\n",
    "RuntimeError: .../casadi/core/mx.cpp:527: Dimension mismatch for (x*y), x is 1x11, while y is 1x10\n",
    "'''\n",
    "\n",
    "'''\n",
    "thrust = u[0]\n",
    "tau_phi = u[1]\n",
    "tau_theta = u[2]\n",
    "tau_psi = u[3]\n",
    "\n",
    "-> gets me this error down the line\n",
    "14     opti.subject_to(X[:, k + 1] == x_next)  # close the gaps\n",
    "\n",
    "RuntimeError: Error in Opti::subject_to [OptiNode] at .../casadi/core/optistack.cpp:94:\n",
    ".../casadi/core/optistack_internal.cpp:505: Unknown: MX symbol 'u' of shape 4x1, declared outside of Opti.\n",
    "Note: you cannot use a raw MX.sym in your Opti problem, only if you package it in a CasADi Function.\n",
    "'''\n",
    "\n",
    "'''\n",
    "\n",
    "x_pos_ddot = (cos(phi) * sin(phi) * cos(psi) + sin(phi) * sin(phi)) * u[0] / m\n",
    "y_ddot = (cos(phi) * sin(phi) * cos(psi) - sin(phi) * sin(phi)) * u[0] / m\n",
    "z_ddot = -g + (cos(phi) * cos(theta)) * u[0] / m\n",
    "phi_ddot = theta_dot * psi_dot * (Iy - Iz) / (Ix) + u[1] / Ix\n",
    "theta_ddot = phi_dot * psi_dot * (Iz - Ix) / (Iy) + u[2] / Iy\n",
    "psi_ddot = theta_dot * phi_dot * (Ix - Iy) / (Iz) + u[3] / Iz\n",
    "\n",
    ".../casadi/core/optistack_internal.cpp:505: Unknown: MX symbol 'u' of shape 4x1, declared outside of Opti.\n",
    "Note: you cannot use a raw MX.sym in your Opti problem, only if you package it in a CasADi Function.\n",
    "'''\n",
    "\n",
    "\n",
    "x_pos_ddot = (cos(phi) * sin(phi) * cos(psi) + sin(phi) * sin(phi)) * thrust / m\n",
    "y_ddot = (cos(phi) * sin(phi) * cos(psi) - sin(phi) * sin(phi)) * thrust / m\n",
    "z_ddot = -g + (cos(phi) * cos(theta)) * thrust / m\n",
    "phi_ddot = theta_dot * psi_dot * (Iy - Iz) / (Ix) + tau_phi / Ix\n",
    "theta_ddot = phi_dot * psi_dot * (Iz - Ix) / (Iy) + tau_theta / Iy\n",
    "psi_ddot = theta_dot * phi_dot * (Ix - Iy) / (Iz) + tau_psi / Iz\n",
    "\n",
    "\n",
    "\n",
    "# x˙(t) = [x_dot, y_dot, z_dot, phi_dot, ˙theta_dot, psi_dot, x_ddot, y_ddot, z_ddot, phi_ddot, ˙theta_ddot, psi_ddot]T\n",
    "ode = vertcat(x_pos_dot, y_dot, z_dot, phi_dot, theta_dot, psi_dot, x_pos_ddot, y_ddot, z_ddot, phi_ddot, theta_ddot, psi_ddot)"
   ]
  },
  {
   "cell_type": "code",
   "execution_count": 22,
   "id": "24781c5cf0f3985b",
   "metadata": {
    "collapsed": false,
    "ExecuteTime": {
     "end_time": "2024-01-28T09:43:28.625706865Z",
     "start_time": "2024-01-28T09:43:28.620810992Z"
    }
   },
   "outputs": [
    {
     "data": {
      "text/plain": "Function(f:(x[12],u[4])->(x_dot[12]) MXFunction)"
     },
     "execution_count": 22,
     "metadata": {},
     "output_type": "execute_result"
    }
   ],
   "source": [
    "# 2) Define problem based on system. Initial value/Integration/Rootfinding Problems/\n",
    "# Nonlinear constrained optimization\n",
    "\n",
    "# Expression graphs -create-> create functions\n",
    "\n",
    "f = Function('f', [x, u], [ode], ['x', 'u'], ['x_dot'])\n",
    "\n",
    "#f = lambda x,u: x_dot # f(x,u) = dx/dt  \n",
    "\n",
    "f"
   ]
  },
  {
   "cell_type": "code",
   "execution_count": 23,
   "outputs": [
    {
     "ename": "NotImplementedError",
     "evalue": "Wrong number or type of arguments for overloaded function 'integrator'.\n  Possible prototypes are:\n    integrator(str,str,dict:SX,dict)\n    integrator(str,str,dict:MX,dict)\n    integrator(str,str,Function,dict)\n    integrator(str,str,dict:SX,float,[float],dict)\n    integrator(str,str,dict:SX,float,float,dict)\n    integrator(str,str,dict:MX,float,[float],dict)\n    integrator(str,str,dict:MX,float,float,dict)\n    integrator(str,str,Function,float,[float],dict)\n    integrator(str,str,Function,float,float,dict)\n  You have: '(str,str,str:MX,int)'\n",
     "output_type": "error",
     "traceback": [
      "\u001B[0;31m---------------------------------------------------------------------------\u001B[0m",
      "\u001B[0;31mNotImplementedError\u001B[0m                       Traceback (most recent call last)",
      "\u001B[0;32m/tmp/ipykernel_9260/3859409133.py\u001B[0m in \u001B[0;36m?\u001B[0;34m()\u001B[0m\n\u001B[1;32m      2\u001B[0m \u001B[0mN\u001B[0m \u001B[0;34m=\u001B[0m \u001B[0;36m20\u001B[0m\u001B[0;34m\u001B[0m\u001B[0;34m\u001B[0m\u001B[0m\n\u001B[1;32m      3\u001B[0m \u001B[0;34m\u001B[0m\u001B[0m\n\u001B[1;32m      4\u001B[0m \u001B[0mdae\u001B[0m \u001B[0;34m=\u001B[0m \u001B[0;34m{\u001B[0m\u001B[0;34m\"x\"\u001B[0m\u001B[0;34m:\u001B[0m \u001B[0mx\u001B[0m\u001B[0;34m,\u001B[0m \u001B[0;34m\"p\"\u001B[0m\u001B[0;34m:\u001B[0m \u001B[0mu\u001B[0m\u001B[0;34m,\u001B[0m \u001B[0;34m\"ode\"\u001B[0m\u001B[0;34m:\u001B[0m \u001B[0mode\u001B[0m\u001B[0;34m}\u001B[0m\u001B[0;34m\u001B[0m\u001B[0;34m\u001B[0m\u001B[0m\n\u001B[1;32m      5\u001B[0m \u001B[0;34m\u001B[0m\u001B[0m\n\u001B[0;32m----> 6\u001B[0;31m \u001B[0mintg\u001B[0m \u001B[0;34m=\u001B[0m \u001B[0mintegrator\u001B[0m\u001B[0;34m(\u001B[0m\u001B[0;34m\"intg\"\u001B[0m\u001B[0;34m,\u001B[0m\u001B[0;34m\"idas\"\u001B[0m\u001B[0;34m,\u001B[0m\u001B[0mdae\u001B[0m\u001B[0;34m,\u001B[0m\u001B[0;36m0\u001B[0m\u001B[0;34m)\u001B[0m\u001B[0;34m\u001B[0m\u001B[0;34m\u001B[0m\u001B[0m\n\u001B[0m",
      "\u001B[0;32m~/anaconda3/envs/CasADi-Jupyter/lib/python3.12/site-packages/casadi/casadi.py\u001B[0m in \u001B[0;36m?\u001B[0;34m(*args)\u001B[0m\n\u001B[1;32m  25174\u001B[0m \u001B[0;34m\u001B[0m\u001B[0m\n\u001B[1;32m  25175\u001B[0m \u001B[0;34m\u001B[0m\u001B[0m\n\u001B[1;32m  25176\u001B[0m \u001B[0;34m\u001B[0m\u001B[0m\n\u001B[1;32m  25177\u001B[0m     \"\"\"\n\u001B[0;32m> 25178\u001B[0;31m     \u001B[0;32mreturn\u001B[0m \u001B[0m_casadi\u001B[0m\u001B[0;34m.\u001B[0m\u001B[0mintegrator\u001B[0m\u001B[0;34m(\u001B[0m\u001B[0;34m*\u001B[0m\u001B[0margs\u001B[0m\u001B[0;34m)\u001B[0m\u001B[0;34m\u001B[0m\u001B[0;34m\u001B[0m\u001B[0m\n\u001B[0m",
      "\u001B[0;31mNotImplementedError\u001B[0m: Wrong number or type of arguments for overloaded function 'integrator'.\n  Possible prototypes are:\n    integrator(str,str,dict:SX,dict)\n    integrator(str,str,dict:MX,dict)\n    integrator(str,str,Function,dict)\n    integrator(str,str,dict:SX,float,[float],dict)\n    integrator(str,str,dict:SX,float,float,dict)\n    integrator(str,str,dict:MX,float,[float],dict)\n    integrator(str,str,dict:MX,float,float,dict)\n    integrator(str,str,Function,float,[float],dict)\n    integrator(str,str,Function,float,float,dict)\n  You have: '(str,str,str:MX,int)'\n"
     ]
    }
   ],
   "source": [
    "T  = 10\n",
    "N = 20\n",
    "\n",
    "dae = {\"x\": x, \"p\": u, \"ode\": ode}\n",
    "\n",
    "intg = integrator(\"intg\",\"rk\",dae,0)"
   ],
   "metadata": {
    "collapsed": false,
    "ExecuteTime": {
     "end_time": "2024-01-28T09:43:33.771710315Z",
     "start_time": "2024-01-28T09:43:33.767206745Z"
    }
   },
   "id": "97cc72380cc3cbd6"
  },
  {
   "cell_type": "code",
   "execution_count": 15,
   "id": "f09dd5144b2a1c01",
   "metadata": {
    "collapsed": false,
    "ExecuteTime": {
     "end_time": "2024-01-28T09:11:45.310455381Z",
     "start_time": "2024-01-28T09:11:45.306649600Z"
    }
   },
   "outputs": [],
   "source": [
    "# ---- objective          ---------\n",
    "\n",
    "\n",
    "Q = diag(MX([100, 100, 100, 0, 0, 0, 0, 0, 0, 0, 0, 0]))\n",
    "R = diag(MX([10.0, 10.0, 10.0, 10.0]))\n",
    "\n",
    "# Add the objective function to the optimization problem\n",
    "objective = 0  # Initialize the objective function\n",
    "\n",
    "# Loop over the control horizon\n",
    "for k in range(Nhoriz):\n",
    "    # State tracking cost\n",
    "    state_error = X[:, k] - Xref[:, k]  # State deviation\n",
    "    objective += state_error.T @ Q @ state_error  # Quadratic cost for state deviation\n",
    "\n",
    "    # Control effort cost\n",
    "    if k < Nhoriz - 1:  # No control input for the last stage\n",
    "        control_error = U[:, k]  # Assuming zero as the reference for control inputs\n",
    "        objective += control_error.T @ R @ control_error  # Quadratic cost for control effort\n",
    "\n",
    "# Terminal cost\n",
    "terminal_error = X[:, Nhoriz] - Xref[:, Nhoriz]  # Terminal state deviation\n",
    "objective += terminal_error.T @ Q @ terminal_error  # Quadratic cost for terminal state deviation\n",
    "\n",
    "# Solve/deploy problem\n",
    "# Numerical backends, 3rd-party solvers\n",
    "# Ipopt\n",
    "\n",
    "opti.minimize(objective)  # Set the objective in the optimization problem"
   ]
  }
 ],
 "metadata": {
  "kernelspec": {
   "display_name": "Python 3 (ipykernel)",
   "language": "python",
   "name": "python3"
  },
  "language_info": {
   "codemirror_mode": {
    "name": "ipython",
    "version": 3
   },
   "file_extension": ".py",
   "mimetype": "text/x-python",
   "name": "python",
   "nbconvert_exporter": "python",
   "pygments_lexer": "ipython3",
   "version": "3.12.1"
  }
 },
 "nbformat": 4,
 "nbformat_minor": 5
}
