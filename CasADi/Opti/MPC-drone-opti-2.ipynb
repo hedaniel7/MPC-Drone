{
 "cells": [
  {
   "cell_type": "code",
   "execution_count": 12,
   "id": "initial_id",
   "metadata": {
    "ExecuteTime": {
     "end_time": "2024-01-28T09:11:37.998294971Z",
     "start_time": "2024-01-28T09:11:37.955960264Z"
    }
   },
   "outputs": [],
   "source": [
    "# Drone Position control with MPC\n",
    "# ----------------------\n",
    "# An optimal control problem (OCP),\n",
    "# solved with direct multiple-shooting.\n",
    "\n",
    "from casadi import *\n",
    "import numpy as np\n",
    "\n",
    "# Paper Cascaded Nonlinear MPC for Realtime Quadrotor Position Tracking. Schlagenhauf\n",
    "# Paper Non-Linear Model Predictive Control Using CasADi Package for Trajectory Tracking of Quadrotor. Elhesasy\n",
    "\n",
    "# 1) Define system, static/kinematic/dynamic model. Typically Differential (Algebraic) equations\n",
    "# Expression graphs represent a computation in the computer memory. SX, MX\n",
    "\n",
    "opti = Opti()  # Optimization problem\n",
    "\n",
    "Ix = 0.0000166  # Moment of inertia around p_WB_W_x-axis, source: Julian Förster's ETH Bachelor Thesis\n",
    "Iy = 0.0000167  # Moment of inertia around p_WB_W_y-axis, source: Julian Förster's ETH Bachelor Thesis\n",
    "Iz = 0.00000293  # Moment of inertia around p_WB_W_z-axis, source: Julian Förster's ETH Bachelor Thesis\n",
    "m = 0.029  # mass of Crazyflie 2.1\n",
    "g = 9.81\n",
    "\n",
    "Nx = 12\n",
    "Nu = 4\n",
    "Nhoriz = 10"
   ]
  },
  {
   "cell_type": "code",
   "execution_count": 13,
   "id": "e2c72a45bc90319a",
   "metadata": {
    "collapsed": false,
    "ExecuteTime": {
     "end_time": "2024-01-28T09:11:39.821284016Z",
     "start_time": "2024-01-28T09:11:39.812428359Z"
    }
   },
   "outputs": [],
   "source": [
    "# ---- decision variables ---------\n",
    "\n",
    "# x(t) = [x, y, z, phi, theta, psi, x_dot, y_dot, z_dot, phi_dot, ˙theta_dot, psi_dot]T\n",
    "X = opti.variable(Nx, Nhoriz + 1)\n",
    "U = opti.variable(Nu, Nhoriz)\n",
    "\n",
    "xref = MX.zeros(Nx,1)\n",
    "xref[2] = 1\n",
    "\n",
    "Xref = repmat(xref, 1, Nhoriz + 1)\n",
    "\n",
    "# repmat(v, n, m): Repeat expression v\n",
    "# n times vertically and m times horizontally.\n",
    "# repmat(SX(3), 2, 1) will create a 2 - by - 1 matrix with all elements 3.\n",
    "\n",
    "#x = MX.sym(\"x\", Nx)\n",
    "#u = MX.sym(\"u\", Nu)\n",
    "\n",
    "\n",
    "x_pos = X[0,:]  # x-position\n",
    "y = X[1,:]  # y-position\n",
    "z = X[2,:]  # z-position\n",
    "phi = X[3,:]  # phi-angle, Euler angles\n",
    "theta = X[4,:]  # theta-angle, Euler angles\n",
    "psi = X[5,:]  # psi-angle, Euler angles\n",
    "x_pos_dot = X[6,:]  # x velocity\n",
    "y_dot = X[7,:]  # y velocity\n",
    "z_dot = X[8,:]  # z velocity\n",
    "phi_dot = X[9,:]  # phi_dot, angular velocity\n",
    "theta_dot = X[10,:]  # theta_dot\n",
    "psi_dot = X[11,:]  # psi-dot\n",
    "\n",
    "#x = vertcat(x_pos, y, z, phi, theta, psi, x_pos_dot, y_dot, z_dot, phi_dot, theta_dot, psi_dot)\n",
    "\n",
    "\n",
    "'''\n",
    "thrust = U[0,:]\n",
    "tau_phi = U[1,:]\n",
    "tau_theta = U[2,:]\n",
    "tau_psi = U[3,:]\n",
    "\n",
    "-> gets me this error\n",
    "Note: you cannot use a raw MX.sym in your Opti problem, only if you package it in a CasADi Function.\n",
    "RuntimeError: .../casadi/core/mx.cpp:527: Dimension mismatch for (x*y), x is 1x11, while y is 1x10\n",
    "'''\n",
    "\n",
    "'''\n",
    "thrust = u[0]\n",
    "tau_phi = u[1]\n",
    "tau_theta = u[2]\n",
    "tau_psi = u[3]\n",
    "\n",
    "-> gets me this error down the line\n",
    "14     opti.subject_to(X[:, k + 1] == x_next)  # close the gaps\n",
    "\n",
    "RuntimeError: Error in Opti::subject_to [OptiNode] at .../casadi/core/optistack.cpp:94:\n",
    ".../casadi/core/optistack_internal.cpp:505: Unknown: MX symbol 'u' of shape 4x1, declared outside of Opti.\n",
    "Note: you cannot use a raw MX.sym in your Opti problem, only if you package it in a CasADi Function.\n",
    "'''\n",
    "\n",
    "'''\n",
    "\n",
    "x_pos_ddot = (cos(phi) * sin(phi) * cos(psi) + sin(phi) * sin(phi)) * u[0] / m\n",
    "y_ddot = (cos(phi) * sin(phi) * cos(psi) - sin(phi) * sin(phi)) * u[0] / m\n",
    "z_ddot = -g + (cos(phi) * cos(theta)) * u[0] / m\n",
    "phi_ddot = theta_dot * psi_dot * (Iy - Iz) / (Ix) + u[1] / Ix\n",
    "theta_ddot = phi_dot * psi_dot * (Iz - Ix) / (Iy) + u[2] / Iy\n",
    "psi_ddot = theta_dot * phi_dot * (Ix - Iy) / (Iz) + u[3] / Iz\n",
    "\n",
    ".../casadi/core/optistack_internal.cpp:505: Unknown: MX symbol 'u' of shape 4x1, declared outside of Opti.\n",
    "Note: you cannot use a raw MX.sym in your Opti problem, only if you package it in a CasADi Function.\n",
    "'''\n",
    "\n",
    "\n",
    "x_pos_ddot = (cos(phi) * sin(phi) * cos(psi) + sin(phi) * sin(phi)) * thrust / m\n",
    "y_ddot = (cos(phi) * sin(phi) * cos(psi) - sin(phi) * sin(phi)) * thrust / m\n",
    "z_ddot = -g + (cos(phi) * cos(theta)) * thrust / m\n",
    "phi_ddot = theta_dot * psi_dot * (Iy - Iz) / (Ix) + tau_phi / Ix\n",
    "theta_ddot = phi_dot * psi_dot * (Iz - Ix) / (Iy) + tau_theta / Iy\n",
    "psi_ddot = theta_dot * phi_dot * (Ix - Iy) / (Iz) + tau_psi / Iz\n",
    "\n",
    "\n",
    "\n",
    "# x˙(t) = [x_dot, y_dot, z_dot, phi_dot, ˙theta_dot, psi_dot, x_ddot, y_ddot, z_ddot, phi_ddot, ˙theta_ddot, psi_ddot]T\n",
    "x_dot = vertcat(x_pos_dot, y_dot, z_dot, phi_dot, theta_dot, psi_dot, x_pos_ddot, y_ddot, z_ddot, phi_ddot, theta_ddot, psi_ddot)"
   ]
  },
  {
   "cell_type": "code",
   "execution_count": 14,
   "id": "24781c5cf0f3985b",
   "metadata": {
    "collapsed": false,
    "ExecuteTime": {
     "end_time": "2024-01-28T09:11:43.140808095Z",
     "start_time": "2024-01-28T09:11:43.136239258Z"
    }
   },
   "outputs": [
    {
     "data": {
      "text/plain": "<function __main__.<lambda>(x, u)>"
     },
     "execution_count": 14,
     "metadata": {},
     "output_type": "execute_result"
    }
   ],
   "source": [
    "# 2) Define problem based on system. Initial value/Integration/Rootfinding Problems/\n",
    "# Nonlinear constrained optimization\n",
    "\n",
    "# Expression graphs -create-> create functions\n",
    "\n",
    "#f = Function('f', [x, u], [x_dot], ['x', 'u'], ['x_dot'])\n",
    "\n",
    "f = lambda x,u: x_dot # f(x,u) = dx/dt  \n",
    "\n",
    "f"
   ]
  },
  {
   "cell_type": "code",
   "execution_count": 15,
   "id": "f09dd5144b2a1c01",
   "metadata": {
    "collapsed": false,
    "ExecuteTime": {
     "end_time": "2024-01-28T09:11:45.310455381Z",
     "start_time": "2024-01-28T09:11:45.306649600Z"
    }
   },
   "outputs": [],
   "source": [
    "# ---- objective          ---------\n",
    "\n",
    "\n",
    "Q = diag(MX([100, 100, 100, 0, 0, 0, 0, 0, 0, 0, 0, 0]))\n",
    "R = diag(MX([10.0, 10.0, 10.0, 10.0]))\n",
    "\n",
    "# Add the objective function to the optimization problem\n",
    "objective = 0  # Initialize the objective function\n",
    "\n",
    "# Loop over the control horizon\n",
    "for k in range(Nhoriz):\n",
    "    # State tracking cost\n",
    "    state_error = X[:, k] - Xref[:, k]  # State deviation\n",
    "    objective += state_error.T @ Q @ state_error  # Quadratic cost for state deviation\n",
    "\n",
    "    # Control effort cost\n",
    "    if k < Nhoriz - 1:  # No control input for the last stage\n",
    "        control_error = U[:, k]  # Assuming zero as the reference for control inputs\n",
    "        objective += control_error.T @ R @ control_error  # Quadratic cost for control effort\n",
    "\n",
    "# Terminal cost\n",
    "terminal_error = X[:, Nhoriz] - Xref[:, Nhoriz]  # Terminal state deviation\n",
    "objective += terminal_error.T @ Q @ terminal_error  # Quadratic cost for terminal state deviation\n",
    "\n",
    "# Solve/deploy problem\n",
    "# Numerical backends, 3rd-party solvers\n",
    "# Ipopt\n",
    "\n",
    "opti.minimize(objective)  # Set the objective in the optimization problem"
   ]
  },
  {
   "cell_type": "code",
   "execution_count": 16,
   "id": "f235d3a13a73284a",
   "metadata": {
    "collapsed": false,
    "ExecuteTime": {
     "end_time": "2024-01-28T09:11:48.363864626Z",
     "start_time": "2024-01-28T09:11:48.320993900Z"
    }
   },
   "outputs": [
    {
     "ename": "RuntimeError",
     "evalue": "Error in Opti::subject_to [OptiNode] at .../casadi/core/optistack.cpp:94:\n.../casadi/core/optistack_internal.cpp:505: Unknown: MX symbol 'u' of shape 4x1, declared outside of Opti.\nNote: you cannot use a raw MX.sym in your Opti problem, only if you package it in a CasADi Function.",
     "output_type": "error",
     "traceback": [
      "\u001B[0;31m---------------------------------------------------------------------------\u001B[0m",
      "\u001B[0;31mRuntimeError\u001B[0m                              Traceback (most recent call last)",
      "\u001B[0;32m/tmp/ipykernel_9260/1005044082.py\u001B[0m in \u001B[0;36m?\u001B[0;34m()\u001B[0m\n\u001B[1;32m     10\u001B[0m     \u001B[0mk2\u001B[0m \u001B[0;34m=\u001B[0m \u001B[0mf\u001B[0m\u001B[0;34m(\u001B[0m\u001B[0mX\u001B[0m\u001B[0;34m[\u001B[0m\u001B[0;34m:\u001B[0m\u001B[0;34m,\u001B[0m \u001B[0mk\u001B[0m\u001B[0;34m]\u001B[0m \u001B[0;34m+\u001B[0m \u001B[0mdt\u001B[0m \u001B[0;34m/\u001B[0m \u001B[0;36m2\u001B[0m \u001B[0;34m*\u001B[0m \u001B[0mk1\u001B[0m\u001B[0;34m,\u001B[0m \u001B[0mU\u001B[0m\u001B[0;34m[\u001B[0m\u001B[0;34m:\u001B[0m\u001B[0;34m,\u001B[0m \u001B[0mk\u001B[0m\u001B[0;34m]\u001B[0m\u001B[0;34m)\u001B[0m\u001B[0;34m\u001B[0m\u001B[0;34m\u001B[0m\u001B[0m\n\u001B[1;32m     11\u001B[0m     \u001B[0mk3\u001B[0m \u001B[0;34m=\u001B[0m \u001B[0mf\u001B[0m\u001B[0;34m(\u001B[0m\u001B[0mX\u001B[0m\u001B[0;34m[\u001B[0m\u001B[0;34m:\u001B[0m\u001B[0;34m,\u001B[0m \u001B[0mk\u001B[0m\u001B[0;34m]\u001B[0m \u001B[0;34m+\u001B[0m \u001B[0mdt\u001B[0m \u001B[0;34m/\u001B[0m \u001B[0;36m2\u001B[0m \u001B[0;34m*\u001B[0m \u001B[0mk2\u001B[0m\u001B[0;34m,\u001B[0m \u001B[0mU\u001B[0m\u001B[0;34m[\u001B[0m\u001B[0;34m:\u001B[0m\u001B[0;34m,\u001B[0m \u001B[0mk\u001B[0m\u001B[0;34m]\u001B[0m\u001B[0;34m)\u001B[0m\u001B[0;34m\u001B[0m\u001B[0;34m\u001B[0m\u001B[0m\n\u001B[1;32m     12\u001B[0m     \u001B[0mk4\u001B[0m \u001B[0;34m=\u001B[0m \u001B[0mf\u001B[0m\u001B[0;34m(\u001B[0m\u001B[0mX\u001B[0m\u001B[0;34m[\u001B[0m\u001B[0;34m:\u001B[0m\u001B[0;34m,\u001B[0m \u001B[0mk\u001B[0m\u001B[0;34m]\u001B[0m \u001B[0;34m+\u001B[0m \u001B[0mdt\u001B[0m \u001B[0;34m*\u001B[0m \u001B[0mk3\u001B[0m\u001B[0;34m,\u001B[0m \u001B[0mU\u001B[0m\u001B[0;34m[\u001B[0m\u001B[0;34m:\u001B[0m\u001B[0;34m,\u001B[0m \u001B[0mk\u001B[0m\u001B[0;34m]\u001B[0m\u001B[0;34m)\u001B[0m\u001B[0;34m\u001B[0m\u001B[0;34m\u001B[0m\u001B[0m\n\u001B[1;32m     13\u001B[0m     \u001B[0mx_next\u001B[0m \u001B[0;34m=\u001B[0m \u001B[0mX\u001B[0m\u001B[0;34m[\u001B[0m\u001B[0;34m:\u001B[0m\u001B[0;34m,\u001B[0m \u001B[0mk\u001B[0m\u001B[0;34m]\u001B[0m \u001B[0;34m+\u001B[0m \u001B[0mdt\u001B[0m \u001B[0;34m/\u001B[0m \u001B[0;36m6\u001B[0m \u001B[0;34m*\u001B[0m \u001B[0;34m(\u001B[0m\u001B[0mk1\u001B[0m \u001B[0;34m+\u001B[0m \u001B[0;36m2\u001B[0m \u001B[0;34m*\u001B[0m \u001B[0mk2\u001B[0m \u001B[0;34m+\u001B[0m \u001B[0;36m2\u001B[0m \u001B[0;34m*\u001B[0m \u001B[0mk3\u001B[0m \u001B[0;34m+\u001B[0m \u001B[0mk4\u001B[0m\u001B[0;34m)\u001B[0m\u001B[0;34m\u001B[0m\u001B[0;34m\u001B[0m\u001B[0m\n\u001B[0;32m---> 14\u001B[0;31m     \u001B[0mopti\u001B[0m\u001B[0;34m.\u001B[0m\u001B[0msubject_to\u001B[0m\u001B[0;34m(\u001B[0m\u001B[0mX\u001B[0m\u001B[0;34m[\u001B[0m\u001B[0;34m:\u001B[0m\u001B[0;34m,\u001B[0m \u001B[0mk\u001B[0m \u001B[0;34m+\u001B[0m \u001B[0;36m1\u001B[0m\u001B[0;34m]\u001B[0m \u001B[0;34m==\u001B[0m \u001B[0mx_next\u001B[0m\u001B[0;34m)\u001B[0m  \u001B[0;31m# close the gaps\u001B[0m\u001B[0;34m\u001B[0m\u001B[0;34m\u001B[0m\u001B[0m\n\u001B[0m\u001B[1;32m     15\u001B[0m \u001B[0;34m\u001B[0m\u001B[0m\n\u001B[1;32m     16\u001B[0m \u001B[0;31m# ---- path constraints -----------\u001B[0m\u001B[0;34m\u001B[0m\u001B[0;34m\u001B[0m\u001B[0m\n\u001B[1;32m     17\u001B[0m \u001B[0;31m#opti.subject_to(speed <= limit(pos))  # track speed limit\u001B[0m\u001B[0;34m\u001B[0m\u001B[0;34m\u001B[0m\u001B[0m\n",
      "\u001B[0;32m~/anaconda3/envs/CasADi-Jupyter/lib/python3.12/site-packages/casadi/casadi.py\u001B[0m in \u001B[0;36m?\u001B[0;34m(self, *args)\u001B[0m\n\u001B[1;32m  48961\u001B[0m           \u001B[0mframe\u001B[0m \u001B[0;34m=\u001B[0m \u001B[0msys\u001B[0m\u001B[0;34m.\u001B[0m\u001B[0m_getframe\u001B[0m\u001B[0;34m(\u001B[0m\u001B[0;36m1\u001B[0m\u001B[0;34m)\u001B[0m\u001B[0;34m\u001B[0m\u001B[0;34m\u001B[0m\u001B[0m\n\u001B[1;32m  48962\u001B[0m       \u001B[0;32mexcept\u001B[0m\u001B[0;34m:\u001B[0m\u001B[0;34m\u001B[0m\u001B[0;34m\u001B[0m\u001B[0m\n\u001B[1;32m  48963\u001B[0m           \u001B[0mframe\u001B[0m \u001B[0;34m=\u001B[0m \u001B[0;34m{\u001B[0m\u001B[0;34m}\u001B[0m\u001B[0;34m\u001B[0m\u001B[0;34m\u001B[0m\u001B[0m\n\u001B[1;32m  48964\u001B[0m       \u001B[0mmeta\u001B[0m \u001B[0;34m=\u001B[0m \u001B[0;34m{\u001B[0m\u001B[0;34m}\u001B[0m \u001B[0;32mif\u001B[0m \u001B[0mframe\u001B[0m \u001B[0;32mis\u001B[0m \u001B[0;32mNone\u001B[0m \u001B[0;32melse\u001B[0m \u001B[0;34m{\u001B[0m\u001B[0;34m\"stacktrace\"\u001B[0m\u001B[0;34m:\u001B[0m \u001B[0;34m{\u001B[0m\u001B[0;34m\"file\"\u001B[0m\u001B[0;34m:\u001B[0m\u001B[0mos\u001B[0m\u001B[0;34m.\u001B[0m\u001B[0mpath\u001B[0m\u001B[0;34m.\u001B[0m\u001B[0mabspath\u001B[0m\u001B[0;34m(\u001B[0m\u001B[0mframe\u001B[0m\u001B[0;34m.\u001B[0m\u001B[0mf_code\u001B[0m\u001B[0;34m.\u001B[0m\u001B[0mco_filename\u001B[0m\u001B[0;34m)\u001B[0m\u001B[0;34m,\u001B[0m\u001B[0;34m\"line\"\u001B[0m\u001B[0;34m:\u001B[0m\u001B[0mframe\u001B[0m\u001B[0;34m.\u001B[0m\u001B[0mf_lineno\u001B[0m\u001B[0;34m,\u001B[0m\u001B[0;34m\"name\"\u001B[0m\u001B[0;34m:\u001B[0m\u001B[0mframe\u001B[0m\u001B[0;34m.\u001B[0m\u001B[0mf_code\u001B[0m\u001B[0;34m.\u001B[0m\u001B[0mco_name\u001B[0m\u001B[0;34m}\u001B[0m\u001B[0;34m}\u001B[0m\u001B[0;34m\u001B[0m\u001B[0;34m\u001B[0m\u001B[0m\n\u001B[0;32m> 48965\u001B[0;31m       \u001B[0mret\u001B[0m \u001B[0;34m=\u001B[0m \u001B[0mself\u001B[0m\u001B[0;34m.\u001B[0m\u001B[0m_subject_to\u001B[0m\u001B[0;34m(\u001B[0m\u001B[0;34m*\u001B[0m\u001B[0margs\u001B[0m\u001B[0;34m)\u001B[0m\u001B[0;34m\u001B[0m\u001B[0;34m\u001B[0m\u001B[0m\n\u001B[0m\u001B[1;32m  48966\u001B[0m       \u001B[0;32mif\u001B[0m \u001B[0mlen\u001B[0m\u001B[0;34m(\u001B[0m\u001B[0mmeta\u001B[0m\u001B[0;34m)\u001B[0m\u001B[0;34m>\u001B[0m\u001B[0;36m0\u001B[0m\u001B[0;34m:\u001B[0m\u001B[0;34m\u001B[0m\u001B[0;34m\u001B[0m\u001B[0m\n\u001B[1;32m  48967\u001B[0m           \u001B[0mself\u001B[0m\u001B[0;34m.\u001B[0m\u001B[0mupdate_user_dict\u001B[0m\u001B[0;34m(\u001B[0m\u001B[0margs\u001B[0m\u001B[0;34m[\u001B[0m\u001B[0;36m0\u001B[0m\u001B[0;34m]\u001B[0m\u001B[0;34m,\u001B[0m \u001B[0mmeta\u001B[0m\u001B[0;34m)\u001B[0m\u001B[0;34m\u001B[0m\u001B[0;34m\u001B[0m\u001B[0m\n\u001B[1;32m  48968\u001B[0m       \u001B[0;32mreturn\u001B[0m \u001B[0mret\u001B[0m\u001B[0;34m\u001B[0m\u001B[0;34m\u001B[0m\u001B[0m\n",
      "\u001B[0;32m~/anaconda3/envs/CasADi-Jupyter/lib/python3.12/site-packages/casadi/casadi.py\u001B[0m in \u001B[0;36m?\u001B[0;34m(self, *args)\u001B[0m\n\u001B[1;32m  47541\u001B[0m \u001B[0;34m\u001B[0m\u001B[0m\n\u001B[1;32m  47542\u001B[0m \u001B[0;34m\u001B[0m\u001B[0m\n\u001B[1;32m  47543\u001B[0m \u001B[0;34m\u001B[0m\u001B[0m\n\u001B[1;32m  47544\u001B[0m         \"\"\"\n\u001B[0;32m> 47545\u001B[0;31m         \u001B[0;32mreturn\u001B[0m \u001B[0m_casadi\u001B[0m\u001B[0;34m.\u001B[0m\u001B[0mOpti__subject_to\u001B[0m\u001B[0;34m(\u001B[0m\u001B[0mself\u001B[0m\u001B[0;34m,\u001B[0m \u001B[0;34m*\u001B[0m\u001B[0margs\u001B[0m\u001B[0;34m)\u001B[0m\u001B[0;34m\u001B[0m\u001B[0;34m\u001B[0m\u001B[0m\n\u001B[0m",
      "\u001B[0;31mRuntimeError\u001B[0m: Error in Opti::subject_to [OptiNode] at .../casadi/core/optistack.cpp:94:\n.../casadi/core/optistack_internal.cpp:505: Unknown: MX symbol 'u' of shape 4x1, declared outside of Opti.\nNote: you cannot use a raw MX.sym in your Opti problem, only if you package it in a CasADi Function."
     ]
    }
   ],
   "source": [
    "# ---- dynamic constraints --------\n",
    "\n",
    "# Dynamics constraints and other constraints will be added here\n",
    "T = 1\n",
    "\n",
    "dt = T / Nhoriz  # length of a control interval\n",
    "for k in range(Nhoriz):  # loop over control intervals\n",
    "    # Runge-Kutta 4 integration\n",
    "    k1 = f(X[:, k], U[:, k])\n",
    "    k2 = f(X[:, k] + dt / 2 * k1, U[:, k])\n",
    "    k3 = f(X[:, k] + dt / 2 * k2, U[:, k])\n",
    "    k4 = f(X[:, k] + dt * k3, U[:, k])\n",
    "    x_next = X[:, k] + dt / 6 * (k1 + 2 * k2 + 2 * k3 + k4)\n",
    "    opti.subject_to(X[:, k + 1] == x_next)  # close the gaps\n",
    "\n",
    "# ---- path constraints -----------\n",
    "#opti.subject_to(speed <= limit(pos))  # track speed limit\n",
    "#opti.subject_to(opti.bounded(0, U, 1))  # control is limited\n",
    "\n",
    "# ---- boundary conditions --------\n",
    "#opti.subject_to(pos[0] == 0)  # start at position 0 ...\n",
    "#opti.subject_to(speed[0] == 0)  # ... from stand-still\n",
    "#opti.subject_to(pos[-1] == 1)  # finish line at position 1\n",
    "\n",
    "# ---- initial values for solver ---\n",
    "opti.set_initial(x_pos, 0)\n",
    "opti.set_initial(y, 0)\n",
    "opti.set_initial(z, 0)\n",
    "opti.set_initial(phi, 0)\n",
    "opti.set_initial(theta, 0)\n",
    "opti.set_initial(psi, 0)\n",
    "opti.set_initial(x_pos_dot, 0)\n",
    "opti.set_initial(y_dot, 0)\n",
    "opti.set_initial(z_dot, 0)\n",
    "opti.set_initial(phi_dot, 0)\n",
    "opti.set_initial(theta_dot, 0)\n",
    "opti.set_initial(psi_dot, 0)"
   ]
  },
  {
   "cell_type": "code",
   "execution_count": null,
   "id": "f94adce3f7c92577",
   "metadata": {
    "collapsed": false
   },
   "outputs": [],
   "source": [
    "# ---- solve NLP              ------\n",
    "\n",
    "# ---- Setup solver  -----\n",
    "opts = {'ipopt': {'print_level': 1}, 'print_time': 0}\n",
    "opti.solver('ipopt', opts)\n",
    "\n",
    "# ---- Solve the optimization problem -----\n",
    "sol = opti.solve()\n",
    "\n",
    "# Now you would extract the optimal trajectory and control inputs\n",
    "optimal_x = sol.value(X)\n",
    "optimal_u = sol.value(U)"
   ]
  },
  {
   "cell_type": "code",
   "execution_count": null,
   "id": "6d055a911b45c366",
   "metadata": {
    "collapsed": false
   },
   "outputs": [],
   "source": [
    "# ---- post-processing        ------\n",
    "from pylab import plot, step, figure, legend, show, spy\n",
    "\n",
    "\n",
    "\n",
    "# MISC"
   ]
  }
 ],
 "metadata": {
  "kernelspec": {
   "display_name": "Python 3 (ipykernel)",
   "language": "python",
   "name": "python3"
  },
  "language_info": {
   "codemirror_mode": {
    "name": "ipython",
    "version": 3
   },
   "file_extension": ".py",
   "mimetype": "text/x-python",
   "name": "python",
   "nbconvert_exporter": "python",
   "pygments_lexer": "ipython3",
   "version": "3.12.1"
  }
 },
 "nbformat": 4,
 "nbformat_minor": 5
}
